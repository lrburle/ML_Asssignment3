{
  "cells": [
    {
      "cell_type": "code",
      "execution_count": 34,
      "metadata": {
        "colab": {
          "base_uri": "https://localhost:8080/"
        },
        "id": "v7mqEmcY9cz3",
        "outputId": "5d06c170-16f9-4483-ed70-d0d02784ab57"
      },
      "outputs": [
        {
          "name": "stdout",
          "output_type": "stream",
          "text": [
            "fatal: destination path 'ML_Assignment2' already exists and is not an empty directory.\n"
          ]
        }
      ],
      "source": [
        "#!git clone https://github.com/lrburle/ML_Assignment2.git"
      ]
    },
    {
      "cell_type": "markdown",
      "metadata": {
        "id": "M_XRGWMF9cz0"
      },
      "source": [
        "# Assignment 3 - Landon Burleson \n",
        "## Problem 1\n",
        "\n",
        "***"
      ]
    },
    {
      "cell_type": "markdown",
      "metadata": {
        "id": "8DzgCOkj9cz2"
      },
      "source": [
        "## Problem 2"
      ]
    },
    {
      "cell_type": "code",
      "execution_count": 35,
      "metadata": {
        "id": "3iukuJrm9cz4"
      },
      "outputs": [],
      "source": [
        "#Adding in the necessary modules needed to complete Assignment 2\n",
        "import numpy as np\n",
        "import matplotlib.pyplot as plt\n",
        "import sys\n",
        " \n",
        "# adding the subfolder to the path.\n",
        "sys.path.insert(0, './ML_Assignment2')\n",
        "\n",
        "from layer import Layer"
      ]
    },
    {
      "cell_type": "markdown",
      "metadata": {
        "id": "JlTPm71d9c0A"
      },
      "source": [
        "***"
      ]
    },
    {
      "cell_type": "markdown",
      "metadata": {
        "id": "Sk3iCH7b9c0A"
      },
      "source": [
        "# Problem 3"
      ]
    }
  ],
  "metadata": {
    "colab": {
      "provenance": []
    },
    "kernelspec": {
      "display_name": "Python 3.6.8 64-bit",
      "language": "python",
      "name": "python3"
    },
    "language_info": {
      "codemirror_mode": {
        "name": "ipython",
        "version": 3
      },
      "file_extension": ".py",
      "mimetype": "text/x-python",
      "name": "python",
      "nbconvert_exporter": "python",
      "pygments_lexer": "ipython3",
      "version": "3.8.10"
    },
    "orig_nbformat": 4,
    "vscode": {
      "interpreter": {
        "hash": "31f2aee4e71d21fbe5cf8b01ff0e069b9275f58929596ceb00d14d90e3e16cd6"
      }
    }
  },
  "nbformat": 4,
  "nbformat_minor": 0
}
