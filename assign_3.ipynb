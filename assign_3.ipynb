{
 "cells": [
  {
   "cell_type": "code",
   "execution_count": 34,
   "metadata": {
    "colab": {
     "base_uri": "https://localhost:8080/"
    },
    "id": "v7mqEmcY9cz3",
    "outputId": "5d06c170-16f9-4483-ed70-d0d02784ab57"
   },
   "outputs": [
    {
     "name": "stdout",
     "output_type": "stream",
     "text": [
      "fatal: destination path 'ML_Assignment2' already exists and is not an empty directory.\n"
     ]
    }
   ],
   "source": [
    "#!git clone https://github.com/lrburle/ML_Assignment3.git"
   ]
  },
  {
   "cell_type": "markdown",
   "metadata": {
    "id": "M_XRGWMF9cz0"
   },
   "source": [
    "# Assignment 3 - Landon Burleson \n",
    "## Problem 1\n"
   ]
  },
  {
   "cell_type": "code",
   "execution_count": 1,
   "metadata": {
    "id": "3iukuJrm9cz4"
   },
   "outputs": [],
   "source": [
    "#Adding in the necessary modules needed to complete Assignment 3\n",
    "import numpy as np\n",
    "import matplotlib.pyplot as plt\n",
    "import sys\n",
    "import tensorflow as tf\n",
    "from tensorflow import keras\n",
    " \n",
    "# adding the subfolder to the path.\n",
    "# sys.path.insert(0, './ML_Assignment3')"
   ]
  },
  {
   "cell_type": "code",
   "execution_count": 6,
   "metadata": {},
   "outputs": [],
   "source": [
    "#Pulling in the MNIST test data.\n",
    "mnist = keras.datasets.mnist\n",
    "(x_train_full, y_train_full), (x_test, y_test) = mnist.load_data() \n",
    "\n",
    "x_train = x_train_full\n",
    "y_train = y_train_full\n",
    "\n",
    "# #Splits the dataset for validation and training datasets. \n",
    "# x_valid, x_train = x_train_full[:5000] / 255.0, x_train_full[5000:] / 255.0\n",
    "# y_valid, y_train = y_train_full[:5000], y_train_full[5000:]"
   ]
  },
  {
   "cell_type": "code",
   "execution_count": 7,
   "metadata": {},
   "outputs": [
    {
     "name": "stdout",
     "output_type": "stream",
     "text": [
      "Model: \"sequential_2\"\n",
      "_________________________________________________________________\n",
      " Layer (type)                Output Shape              Param #   \n",
      "=================================================================\n",
      " conv1 (Conv2D)              (None, 28, 28, 32)        320       \n",
      "                                                                 \n",
      " maxpool1 (MaxPooling2D)     (None, 14, 14, 32)        0         \n",
      "                                                                 \n",
      " conv2 (Conv2D)              (None, 14, 14, 64)        18496     \n",
      "                                                                 \n",
      " conv3 (Conv2D)              (None, 14, 14, 64)        36928     \n",
      "                                                                 \n",
      " maxpool2 (MaxPooling2D)     (None, 7, 7, 64)          0         \n",
      "                                                                 \n",
      " conv4 (Conv2D)              (None, 7, 7, 128)         73856     \n",
      "                                                                 \n",
      " conv5 (Conv2D)              (None, 7, 7, 128)         147584    \n",
      "                                                                 \n",
      " maxpool3 (MaxPooling2D)     (None, 3, 3, 128)         0         \n",
      "                                                                 \n",
      " conv6 (Conv2D)              (None, 3, 3, 256)         295168    \n",
      "                                                                 \n",
      " maxpool4 (MaxPooling2D)     (None, 1, 1, 256)         0         \n",
      "                                                                 \n",
      " flatten_2 (Flatten)         (None, 256)               0         \n",
      "                                                                 \n",
      " deep1 (Dense)               (None, 128)               32896     \n",
      "                                                                 \n",
      " deep2 (Dense)               (None, 10)                1290      \n",
      "                                                                 \n",
      "=================================================================\n",
      "Total params: 606,538\n",
      "Trainable params: 606,538\n",
      "Non-trainable params: 0\n",
      "_________________________________________________________________\n",
      "Epoch 1/25\n",
      "1875/1875 [==============================] - 25s 12ms/step - loss: 0.1648 - accuracy: 0.9514\n",
      "Epoch 2/25\n",
      "1875/1875 [==============================] - 31s 17ms/step - loss: 0.0560 - accuracy: 0.9840\n",
      "Epoch 3/25\n",
      "1875/1875 [==============================] - 22s 12ms/step - loss: 0.0492 - accuracy: 0.9859\n",
      "Epoch 4/25\n",
      "1875/1875 [==============================] - 28s 15ms/step - loss: 0.0400 - accuracy: 0.9890\n",
      "Epoch 5/25\n",
      "1875/1875 [==============================] - 31s 16ms/step - loss: 0.0370 - accuracy: 0.9893\n",
      "Epoch 6/25\n",
      "1875/1875 [==============================] - 39s 21ms/step - loss: 0.0349 - accuracy: 0.9899\n",
      "Epoch 7/25\n",
      "1875/1875 [==============================] - 34s 18ms/step - loss: 0.0292 - accuracy: 0.9916\n",
      "Epoch 8/25\n",
      "1875/1875 [==============================] - 37s 20ms/step - loss: 0.0295 - accuracy: 0.9919\n",
      "Epoch 9/25\n",
      "1875/1875 [==============================] - 30s 16ms/step - loss: 0.0291 - accuracy: 0.9921\n",
      "Epoch 10/25\n",
      "1875/1875 [==============================] - 23s 12ms/step - loss: 0.0273 - accuracy: 0.9927\n",
      "Epoch 11/25\n",
      "1875/1875 [==============================] - 26s 14ms/step - loss: 0.0259 - accuracy: 0.9932\n",
      "Epoch 12/25\n",
      "1875/1875 [==============================] - 24s 13ms/step - loss: 0.0271 - accuracy: 0.9928\n",
      "Epoch 13/25\n",
      "1875/1875 [==============================] - 23s 12ms/step - loss: 0.0289 - accuracy: 0.9926\n",
      "Epoch 14/25\n",
      "1875/1875 [==============================] - 23s 12ms/step - loss: 0.0229 - accuracy: 0.9943\n",
      "Epoch 15/25\n",
      "1875/1875 [==============================] - 21s 11ms/step - loss: 0.0266 - accuracy: 0.9938\n",
      "Epoch 16/25\n",
      "1875/1875 [==============================] - 22s 12ms/step - loss: 0.0246 - accuracy: 0.9939\n",
      "Epoch 17/25\n",
      "1875/1875 [==============================] - 23s 12ms/step - loss: 0.0247 - accuracy: 0.9938\n",
      "Epoch 18/25\n",
      "1875/1875 [==============================] - 23s 12ms/step - loss: 0.0291 - accuracy: 0.9930\n",
      "Epoch 19/25\n",
      "1875/1875 [==============================] - 23s 12ms/step - loss: 0.0266 - accuracy: 0.9938\n",
      "Epoch 20/25\n",
      "1875/1875 [==============================] - 21s 11ms/step - loss: 0.0279 - accuracy: 0.9936\n",
      "Epoch 21/25\n",
      "1875/1875 [==============================] - 23s 12ms/step - loss: 0.0222 - accuracy: 0.9952\n",
      "Epoch 22/25\n",
      "1875/1875 [==============================] - 22s 12ms/step - loss: 0.0289 - accuracy: 0.9942\n",
      "Epoch 23/25\n",
      "1875/1875 [==============================] - 22s 12ms/step - loss: 0.0319 - accuracy: 0.9931\n",
      "Epoch 24/25\n",
      "1875/1875 [==============================] - 21s 11ms/step - loss: 0.0253 - accuracy: 0.9942\n",
      "Epoch 25/25\n",
      "1875/1875 [==============================] - 23s 12ms/step - loss: 0.0192 - accuracy: 0.9955\n"
     ]
    }
   ],
   "source": [
    "cnn_model1 = keras.models.Sequential([\n",
    "    #Convolution front end.\n",
    "    keras.layers.Conv2D(32, (3, 3), activation=\"relu\", padding=\"same\", input_shape = [28, 28, 1], name=\"conv1\"),\n",
    "    keras.layers.MaxPooling2D((2, 2), name=\"maxpool1\"),\n",
    "    keras.layers.Conv2D(64, (3, 3), activation=\"relu\", padding=\"same\", name=\"conv2\"),\n",
    "    keras.layers.Conv2D(64, (3, 3), activation=\"relu\", padding=\"same\", name=\"conv3\"),\n",
    "    keras.layers.MaxPooling2D((2, 2), name=\"maxpool2\"),\n",
    "    keras.layers.Conv2D(128, (3, 3), activation=\"relu\", padding=\"same\", name=\"conv4\"), \n",
    "    keras.layers.Conv2D(128, (3, 3), activation=\"relu\", padding=\"same\", name=\"conv5\"), \n",
    "    keras.layers.MaxPooling2D((2, 2), name=\"maxpool3\"),\n",
    "    keras.layers.Conv2D(256, (3, 3), activation=\"relu\", padding=\"same\", name=\"conv6\"), \n",
    "    keras.layers.MaxPooling2D((2, 2), name=\"maxpool4\"),\n",
    "\n",
    "\t#Deep learning layers\n",
    "    keras.layers.Flatten(),\n",
    "    keras.layers.Dense(128, activation=\"relu\", name=\"deep1\"), #Dense layers can be atributed to a 'regular' hidden layer of neurons\n",
    "    keras.layers.Dense(10, activation=\"softmax\", name=\"deep2\") \n",
    "])\n",
    "\n",
    "#Shows the whole network topology for the compiled CNN\n",
    "cnn_model1.compile(loss='sparse_categorical_crossentropy', optimizer='adam', metrics=['accuracy'])\n",
    "#Compiling the model with a loss, optimizer, and other metrics\n",
    "cnn_model1.summary()\n",
    "\n",
    "#Training the network.\n",
    "history1 = cnn_model1.fit(x_train, y_train, epochs=25)\n"
   ]
  },
  {
   "cell_type": "code",
   "execution_count": 8,
   "metadata": {},
   "outputs": [
    {
     "name": "stdout",
     "output_type": "stream",
     "text": [
      "Model: \"sequential_3\"\n",
      "_________________________________________________________________\n",
      " Layer (type)                Output Shape              Param #   \n",
      "=================================================================\n",
      " conv1 (Conv2D)              (None, 28, 28, 256)       2560      \n",
      "                                                                 \n",
      " maxpool1 (MaxPooling2D)     (None, 14, 14, 256)       0         \n",
      "                                                                 \n",
      " conv2 (Conv2D)              (None, 14, 14, 128)       295040    \n",
      "                                                                 \n",
      " conv3 (Conv2D)              (None, 14, 14, 128)       147584    \n",
      "                                                                 \n",
      " maxpool2 (MaxPooling2D)     (None, 7, 7, 128)         0         \n",
      "                                                                 \n",
      " conv4 (Conv2D)              (None, 7, 7, 64)          73792     \n",
      "                                                                 \n",
      " conv5 (Conv2D)              (None, 7, 7, 64)          36928     \n",
      "                                                                 \n",
      " maxpool4 (MaxPooling2D)     (None, 3, 3, 64)          0         \n",
      "                                                                 \n",
      " conv6 (Conv2D)              (None, 3, 3, 32)          18464     \n",
      "                                                                 \n",
      " maxpool5 (MaxPooling2D)     (None, 1, 1, 32)          0         \n",
      "                                                                 \n",
      " flatten_3 (Flatten)         (None, 32)                0         \n",
      "                                                                 \n",
      " deep1 (Dense)               (None, 128)               4224      \n",
      "                                                                 \n",
      " deep2 (Dense)               (None, 10)                1290      \n",
      "                                                                 \n",
      "=================================================================\n",
      "Total params: 579,882\n",
      "Trainable params: 579,882\n",
      "Non-trainable params: 0\n",
      "_________________________________________________________________\n",
      "Epoch 1/25\n",
      "1875/1875 [==============================] - 38s 19ms/step - loss: 0.1749 - accuracy: 0.9467\n",
      "Epoch 2/25\n",
      "1875/1875 [==============================] - 51s 27ms/step - loss: 0.0636 - accuracy: 0.9815\n",
      "Epoch 3/25\n",
      "1875/1875 [==============================] - 52s 28ms/step - loss: 0.0504 - accuracy: 0.9851\n",
      "Epoch 4/25\n",
      "1875/1875 [==============================] - 54s 29ms/step - loss: 0.0425 - accuracy: 0.9872\n",
      "Epoch 5/25\n",
      "1875/1875 [==============================] - 13s 7ms/step - loss: 0.0356 - accuracy: 0.9897\n",
      "Epoch 6/25\n",
      "1875/1875 [==============================] - 13s 7ms/step - loss: 0.0335 - accuracy: 0.9902\n",
      "Epoch 7/25\n",
      "1875/1875 [==============================] - 13s 7ms/step - loss: 0.0294 - accuracy: 0.9919\n",
      "Epoch 8/25\n",
      "1875/1875 [==============================] - 12s 7ms/step - loss: 0.0289 - accuracy: 0.9919\n",
      "Epoch 9/25\n",
      "1875/1875 [==============================] - 12s 6ms/step - loss: 0.0281 - accuracy: 0.9923\n",
      "Epoch 10/25\n",
      "1875/1875 [==============================] - 12s 6ms/step - loss: 0.0262 - accuracy: 0.9926\n",
      "Epoch 11/25\n",
      "1875/1875 [==============================] - 12s 7ms/step - loss: 0.0237 - accuracy: 0.9930\n",
      "Epoch 12/25\n",
      "1875/1875 [==============================] - 13s 7ms/step - loss: 0.0266 - accuracy: 0.9929\n",
      "Epoch 13/25\n",
      "1875/1875 [==============================] - 13s 7ms/step - loss: 0.0218 - accuracy: 0.9943\n",
      "Epoch 14/25\n",
      "1875/1875 [==============================] - 14s 7ms/step - loss: 0.0224 - accuracy: 0.9941\n",
      "Epoch 15/25\n",
      "1875/1875 [==============================] - 14s 7ms/step - loss: 0.0226 - accuracy: 0.9941\n",
      "Epoch 16/25\n",
      "1875/1875 [==============================] - 26s 14ms/step - loss: 0.0249 - accuracy: 0.9937\n",
      "Epoch 17/25\n",
      "1875/1875 [==============================] - 16s 9ms/step - loss: 0.0221 - accuracy: 0.9942\n",
      "Epoch 18/25\n",
      "1875/1875 [==============================] - 12s 7ms/step - loss: 0.0213 - accuracy: 0.9946\n",
      "Epoch 19/25\n",
      "1875/1875 [==============================] - 11s 6ms/step - loss: 0.0205 - accuracy: 0.9947\n",
      "Epoch 20/25\n",
      "1875/1875 [==============================] - 11s 6ms/step - loss: 0.0214 - accuracy: 0.9953\n",
      "Epoch 21/25\n",
      "1875/1875 [==============================] - 11s 6ms/step - loss: 0.0201 - accuracy: 0.9949\n",
      "Epoch 22/25\n",
      "1875/1875 [==============================] - 11s 6ms/step - loss: 0.0262 - accuracy: 0.9943\n",
      "Epoch 23/25\n",
      "1875/1875 [==============================] - 11s 6ms/step - loss: 0.0215 - accuracy: 0.9949\n",
      "Epoch 24/25\n",
      "1875/1875 [==============================] - 11s 6ms/step - loss: 0.0178 - accuracy: 0.9953\n",
      "Epoch 25/25\n",
      "1875/1875 [==============================] - 10s 5ms/step - loss: 0.0243 - accuracy: 0.9944\n"
     ]
    }
   ],
   "source": [
    "#Creating the sequential model for a the number of filters decreasing as the layers increase\n",
    "cnn_model2 = keras.models.Sequential([\n",
    "    #Convolution front end.\n",
    "    keras.layers.Conv2D(256, (3, 3), activation=\"relu\", padding=\"same\", input_shape = [28, 28, 1], name=\"conv1\"),\n",
    "    keras.layers.MaxPooling2D((2, 2), name=\"maxpool1\"),\n",
    "    keras.layers.Conv2D(128, (3, 3), activation=\"relu\", padding=\"same\", name=\"conv2\"),\n",
    "    keras.layers.Conv2D(128, (3, 3), activation=\"relu\", padding=\"same\", name=\"conv3\"),\n",
    "    keras.layers.MaxPooling2D((2, 2), name=\"maxpool2\"),\n",
    "    keras.layers.Conv2D(64, (3, 3), activation=\"relu\", padding=\"same\", name=\"conv4\"), \n",
    "    keras.layers.Conv2D(64, (3, 3), activation=\"relu\", padding=\"same\", name=\"conv5\"), \n",
    "    keras.layers.MaxPooling2D((2, 2), name=\"maxpool4\"),\n",
    "    keras.layers.Conv2D(32, (3, 3), activation=\"relu\", padding=\"same\", name=\"conv6\"), \n",
    "    keras.layers.MaxPooling2D((2, 2), name=\"maxpool5\"),\n",
    "\n",
    "\t#Deep learning layers\n",
    "    keras.layers.Flatten(),\n",
    "    keras.layers.Dense(128, activation=\"relu\", name=\"deep1\"), #Dense layers can be atributed to a 'regular' hidden layer of neurons\n",
    "    keras.layers.Dense(10, activation=\"softmax\", name=\"deep2\") \n",
    "])\n",
    "\n",
    "#Shows the whole network topology for the compiled CNN\n",
    "cnn_model2.compile(loss='sparse_categorical_crossentropy', optimizer='adam', metrics=['accuracy'])\n",
    "#Compiling the model with a loss, optimizer, and other metrics\n",
    "cnn_model2.summary()\n",
    "\n",
    "#Training the network.\n",
    "history2 = cnn_model2.fit(x_train, y_train, epochs=25)"
   ]
  },
  {
   "cell_type": "code",
   "execution_count": 14,
   "metadata": {},
   "outputs": [
    {
     "ename": "TypeError",
     "evalue": "Invalid keyword argument(s) in `compile()`: ({'learning_rate'},). Valid keyword arguments include \"cloning\", \"experimental_run_tf_function\", \"distribute\", \"target_tensors\", or \"sample_weight_mode\".",
     "output_type": "error",
     "traceback": [
      "\u001b[0;31m---------------------------------------------------------------------------\u001b[0m",
      "\u001b[0;31mTypeError\u001b[0m                                 Traceback (most recent call last)",
      "\u001b[1;32m/mnt/c/Users/lando/OneDrive/MachineLearning/hw/3/ML_Asssignment3/assign_3.ipynb Cell 7\u001b[0m in \u001b[0;36m<module>\u001b[0;34m\u001b[0m\n\u001b[1;32m      <a href='vscode-notebook-cell://wsl%2Bubuntu/mnt/c/Users/lando/OneDrive/MachineLearning/hw/3/ML_Asssignment3/assign_3.ipynb#W6sdnNjb2RlLXJlbW90ZQ%3D%3D?line=1'>2</a>\u001b[0m cnn_model3 \u001b[39m=\u001b[39m keras\u001b[39m.\u001b[39mmodels\u001b[39m.\u001b[39mSequential([\n\u001b[1;32m      <a href='vscode-notebook-cell://wsl%2Bubuntu/mnt/c/Users/lando/OneDrive/MachineLearning/hw/3/ML_Asssignment3/assign_3.ipynb#W6sdnNjb2RlLXJlbW90ZQ%3D%3D?line=2'>3</a>\u001b[0m     \u001b[39m#Convolution front end.\u001b[39;00m\n\u001b[1;32m      <a href='vscode-notebook-cell://wsl%2Bubuntu/mnt/c/Users/lando/OneDrive/MachineLearning/hw/3/ML_Asssignment3/assign_3.ipynb#W6sdnNjb2RlLXJlbW90ZQ%3D%3D?line=3'>4</a>\u001b[0m     keras\u001b[39m.\u001b[39mlayers\u001b[39m.\u001b[39mConv2D(\u001b[39m32\u001b[39m, (\u001b[39m3\u001b[39m, \u001b[39m3\u001b[39m), activation\u001b[39m=\u001b[39m\u001b[39m\"\u001b[39m\u001b[39mrelu\u001b[39m\u001b[39m\"\u001b[39m, padding\u001b[39m=\u001b[39m\u001b[39m\"\u001b[39m\u001b[39msame\u001b[39m\u001b[39m\"\u001b[39m, input_shape \u001b[39m=\u001b[39m [\u001b[39m28\u001b[39m, \u001b[39m28\u001b[39m, \u001b[39m1\u001b[39m], name\u001b[39m=\u001b[39m\u001b[39m\"\u001b[39m\u001b[39mconv1\u001b[39m\u001b[39m\"\u001b[39m),\n\u001b[0;32m   (...)\u001b[0m\n\u001b[1;32m     <a href='vscode-notebook-cell://wsl%2Bubuntu/mnt/c/Users/lando/OneDrive/MachineLearning/hw/3/ML_Asssignment3/assign_3.ipynb#W6sdnNjb2RlLXJlbW90ZQ%3D%3D?line=17'>18</a>\u001b[0m     keras\u001b[39m.\u001b[39mlayers\u001b[39m.\u001b[39mDense(\u001b[39m10\u001b[39m, activation\u001b[39m=\u001b[39m\u001b[39m\"\u001b[39m\u001b[39msoftmax\u001b[39m\u001b[39m\"\u001b[39m, name\u001b[39m=\u001b[39m\u001b[39m\"\u001b[39m\u001b[39mdeep2\u001b[39m\u001b[39m\"\u001b[39m) \n\u001b[1;32m     <a href='vscode-notebook-cell://wsl%2Bubuntu/mnt/c/Users/lando/OneDrive/MachineLearning/hw/3/ML_Asssignment3/assign_3.ipynb#W6sdnNjb2RlLXJlbW90ZQ%3D%3D?line=18'>19</a>\u001b[0m ])\n\u001b[1;32m     <a href='vscode-notebook-cell://wsl%2Bubuntu/mnt/c/Users/lando/OneDrive/MachineLearning/hw/3/ML_Asssignment3/assign_3.ipynb#W6sdnNjb2RlLXJlbW90ZQ%3D%3D?line=20'>21</a>\u001b[0m \u001b[39m#Shows the whole network topology for the compiled CNN\u001b[39;00m\n\u001b[0;32m---> <a href='vscode-notebook-cell://wsl%2Bubuntu/mnt/c/Users/lando/OneDrive/MachineLearning/hw/3/ML_Asssignment3/assign_3.ipynb#W6sdnNjb2RlLXJlbW90ZQ%3D%3D?line=21'>22</a>\u001b[0m cnn_model3\u001b[39m.\u001b[39;49mcompile(loss\u001b[39m=\u001b[39;49m\u001b[39m'\u001b[39;49m\u001b[39msparse_categorical_crossentropy\u001b[39;49m\u001b[39m'\u001b[39;49m, optimizer\u001b[39m=\u001b[39;49m\u001b[39m'\u001b[39;49m\u001b[39madam\u001b[39;49m\u001b[39m'\u001b[39;49m, learning_rate\u001b[39m=\u001b[39;49m\u001b[39m0.1\u001b[39;49m, metrics\u001b[39m=\u001b[39;49m[\u001b[39m'\u001b[39;49m\u001b[39maccuracy\u001b[39;49m\u001b[39m'\u001b[39;49m])\n\u001b[1;32m     <a href='vscode-notebook-cell://wsl%2Bubuntu/mnt/c/Users/lando/OneDrive/MachineLearning/hw/3/ML_Asssignment3/assign_3.ipynb#W6sdnNjb2RlLXJlbW90ZQ%3D%3D?line=22'>23</a>\u001b[0m \u001b[39m#Compiling the model with a loss, optimizer, and other metrics\u001b[39;00m\n\u001b[1;32m     <a href='vscode-notebook-cell://wsl%2Bubuntu/mnt/c/Users/lando/OneDrive/MachineLearning/hw/3/ML_Asssignment3/assign_3.ipynb#W6sdnNjb2RlLXJlbW90ZQ%3D%3D?line=23'>24</a>\u001b[0m cnn_model3\u001b[39m.\u001b[39msummary()\n",
      "File \u001b[0;32m~/.local/lib/python3.8/site-packages/keras/utils/traceback_utils.py:67\u001b[0m, in \u001b[0;36mfilter_traceback.<locals>.error_handler\u001b[0;34m(*args, **kwargs)\u001b[0m\n\u001b[1;32m     65\u001b[0m \u001b[39mexcept\u001b[39;00m \u001b[39mException\u001b[39;00m \u001b[39mas\u001b[39;00m e:  \u001b[39m# pylint: disable=broad-except\u001b[39;00m\n\u001b[1;32m     66\u001b[0m   filtered_tb \u001b[39m=\u001b[39m _process_traceback_frames(e\u001b[39m.\u001b[39m__traceback__)\n\u001b[0;32m---> 67\u001b[0m   \u001b[39mraise\u001b[39;00m e\u001b[39m.\u001b[39mwith_traceback(filtered_tb) \u001b[39mfrom\u001b[39;00m \u001b[39mNone\u001b[39m\n\u001b[1;32m     68\u001b[0m \u001b[39mfinally\u001b[39;00m:\n\u001b[1;32m     69\u001b[0m   \u001b[39mdel\u001b[39;00m filtered_tb\n",
      "File \u001b[0;32m~/.local/lib/python3.8/site-packages/keras/engine/training.py:2786\u001b[0m, in \u001b[0;36mModel._validate_compile\u001b[0;34m(self, optimizer, metrics, **kwargs)\u001b[0m\n\u001b[1;32m   2784\u001b[0m invalid_kwargs \u001b[39m=\u001b[39m \u001b[39mset\u001b[39m(kwargs) \u001b[39m-\u001b[39m {\u001b[39m'\u001b[39m\u001b[39msample_weight_mode\u001b[39m\u001b[39m'\u001b[39m}\n\u001b[1;32m   2785\u001b[0m \u001b[39mif\u001b[39;00m invalid_kwargs:\n\u001b[0;32m-> 2786\u001b[0m   \u001b[39mraise\u001b[39;00m \u001b[39mTypeError\u001b[39;00m(\u001b[39m'\u001b[39m\u001b[39mInvalid keyword argument(s) in `compile()`: \u001b[39m\u001b[39m'\u001b[39m\n\u001b[1;32m   2787\u001b[0m                   \u001b[39mf\u001b[39m\u001b[39m'\u001b[39m\u001b[39m{\u001b[39;00m(invalid_kwargs,)\u001b[39m}\u001b[39;00m\u001b[39m. Valid keyword arguments include \u001b[39m\u001b[39m'\u001b[39m\n\u001b[1;32m   2788\u001b[0m                   \u001b[39m'\u001b[39m\u001b[39m\"\u001b[39m\u001b[39mcloning\u001b[39m\u001b[39m\"\u001b[39m\u001b[39m, \u001b[39m\u001b[39m\"\u001b[39m\u001b[39mexperimental_run_tf_function\u001b[39m\u001b[39m\"\u001b[39m\u001b[39m, \u001b[39m\u001b[39m\"\u001b[39m\u001b[39mdistribute\u001b[39m\u001b[39m\"\u001b[39m\u001b[39m,\u001b[39m\u001b[39m'\u001b[39m\n\u001b[1;32m   2789\u001b[0m                   \u001b[39m'\u001b[39m\u001b[39m \u001b[39m\u001b[39m\"\u001b[39m\u001b[39mtarget_tensors\u001b[39m\u001b[39m\"\u001b[39m\u001b[39m, or \u001b[39m\u001b[39m\"\u001b[39m\u001b[39msample_weight_mode\u001b[39m\u001b[39m\"\u001b[39m\u001b[39m.\u001b[39m\u001b[39m'\u001b[39m)\n\u001b[1;32m   2791\u001b[0m \u001b[39m# Model must be created and compiled with the same DistStrat.\u001b[39;00m\n\u001b[1;32m   2792\u001b[0m \u001b[39mif\u001b[39;00m \u001b[39mself\u001b[39m\u001b[39m.\u001b[39mbuilt \u001b[39mand\u001b[39;00m tf\u001b[39m.\u001b[39mdistribute\u001b[39m.\u001b[39mhas_strategy():\n",
      "\u001b[0;31mTypeError\u001b[0m: Invalid keyword argument(s) in `compile()`: ({'learning_rate'},). Valid keyword arguments include \"cloning\", \"experimental_run_tf_function\", \"distribute\", \"target_tensors\", or \"sample_weight_mode\"."
     ]
    }
   ],
   "source": [
    "#Creating the sequential model for a the number of filters decreasing as the layers increase\n",
    "cnn_model3 = keras.models.Sequential([\n",
    "    #Convolution front end.\n",
    "    keras.layers.Conv2D(32, (3, 3), activation=\"relu\", padding=\"same\", input_shape = [28, 28, 1], name=\"conv1\"),\n",
    "    keras.layers.MaxPooling2D((2, 2), name=\"maxpool1\"),\n",
    "    keras.layers.Conv2D(64, (3, 3), activation=\"relu\", padding=\"same\", name=\"conv2\"),\n",
    "    keras.layers.Conv2D(128, (3, 3), activation=\"relu\", padding=\"same\", name=\"conv3\"),\n",
    "    keras.layers.MaxPooling2D((2, 2), name=\"maxpool2\"),\n",
    "    keras.layers.Conv2D(128, (3, 3), activation=\"relu\", padding=\"same\", name=\"conv6\"), \n",
    "    keras.layers.Conv2D(64, (3, 3), activation=\"relu\", padding=\"same\", name=\"conv7\"), \n",
    "    keras.layers.MaxPooling2D((2, 2), name=\"maxpool4\"),\n",
    "    keras.layers.Conv2D(32, (3, 3), activation=\"relu\", padding=\"same\", name=\"conv8\"), \n",
    "    keras.layers.MaxPooling2D((2, 2), name=\"maxpool5\"),\n",
    "\n",
    "\t#Deep learning layers\n",
    "    keras.layers.Flatten(),\n",
    "    keras.layers.Dense(128, activation=\"relu\", name=\"deep1\"), #Dense layers can be atributed to a 'regular' hidden layer of neurons\n",
    "    keras.layers.Dense(10, activation=\"softmax\", name=\"deep2\") \n",
    "])\n",
    "\n",
    "#Shows the whole network topology for the compiled CNN\n",
    "opt = keras.optimizers.Adam(lr=0.1)\n",
    "cnn_model3.compile(loss='sparse_categorical_crossentropy', optimizer=opt, metrics=['accuracy'])\n",
    "#Compiling the model with a loss, optimizer, and other metrics\n",
    "cnn_model3.summary()\n",
    "\n",
    "#Training the network.\n",
    "history3 = cnn_model2.fit(x_train, y_train, epochs=25)"
   ]
  },
  {
   "cell_type": "code",
   "execution_count": 13,
   "metadata": {},
   "outputs": [
    {
     "data": {
      "image/png": "[encoded data removed]",
      "text/plain": [
       "<Figure size 864x648 with 1 Axes>"
      ]
     },
     "metadata": {
      "needs_background": "light"
     },
     "output_type": "display_data"
    }
   ],
   "source": [
    "# Show the Loss vs Epochs for each architecture.\n",
    "plt.figure(figsize=[12, 9])\n",
    "plt.title(\"Architectural CNN Performance Comparison\")\n",
    "plt.xlabel(\"Epochs\")\n",
    "plt.ylabel(\"Loss\")\n",
    "plt.plot(history1.history['loss'])\n",
    "plt.plot(history2.history['loss'])\n",
    "plt.plot(history3.history['loss'])\n",
    "plt.legend(['Architecture - 10 Layer CNN - Filter Number Increasing', 'Architecture - 10 Layer CNN - Filter Number Decreasing', 'Architecture - 10 Layer CNN - Filter Number Hourglass'], loc='upper right')\n",
    "plt.show()"
   ]
  },
  {
   "cell_type": "markdown",
   "metadata": {
    "id": "8DzgCOkj9cz2"
   },
   "source": [
    "## Problem 2\n",
    "\n",
    "The following code demonstrates the LaNet7 architecture in tensorflow using the MNIST dataset. "
   ]
  },
  {
   "cell_type": "code",
   "execution_count": 3,
   "metadata": {},
   "outputs": [],
   "source": [
    "#Pulling in the MNIST test data.\n",
    "cifar10 = keras.datasets.cifar10\n",
    "(x_train_full, y_train_full), (x_test, y_test) = cifar10.load_data() \n",
    "\n",
    "x_train = x_train_full\n",
    "y_train = y_train_full\n",
    "# #Splits the dataset for validation and training datasets. \n",
    "# x_valid, x_train = x_train_full[:5000] / 255.0, x_train_full[5000:] / 255.0\n",
    "# y_valid, y_train = y_train_full[:5000], y_train_full[5000:]"
   ]
  },
  {
   "cell_type": "code",
   "execution_count": 4,
   "metadata": {},
   "outputs": [
    {
     "name": "stderr",
     "output_type": "stream",
     "text": [
      "2022-10-27 20:44:28.229926: I tensorflow/stream_executor/cuda/cuda_gpu_executor.cc:925] could not open file to read NUMA node: /sys/bus/pci/devices/0000:0b:00.0/numa_node\n",
      "Your kernel may have been built without NUMA support.\n",
      "2022-10-27 20:44:28.240121: I tensorflow/stream_executor/cuda/cuda_gpu_executor.cc:925] could not open file to read NUMA node: /sys/bus/pci/devices/0000:0b:00.0/numa_node\n",
      "Your kernel may have been built without NUMA support.\n",
      "2022-10-27 20:44:28.240451: I tensorflow/stream_executor/cuda/cuda_gpu_executor.cc:925] could not open file to read NUMA node: /sys/bus/pci/devices/0000:0b:00.0/numa_node\n",
      "Your kernel may have been built without NUMA support.\n",
      "2022-10-27 20:44:28.241135: I tensorflow/core/platform/cpu_feature_guard.cc:151] This TensorFlow binary is optimized with oneAPI Deep Neural Network Library (oneDNN) to use the following CPU instructions in performance-critical operations:  AVX2 FMA\n",
      "To enable them in other operations, rebuild TensorFlow with the appropriate compiler flags.\n",
      "2022-10-27 20:44:28.242631: I tensorflow/stream_executor/cuda/cuda_gpu_executor.cc:925] could not open file to read NUMA node: /sys/bus/pci/devices/0000:0b:00.0/numa_node\n",
      "Your kernel may have been built without NUMA support.\n",
      "2022-10-27 20:44:28.242989: I tensorflow/stream_executor/cuda/cuda_gpu_executor.cc:925] could not open file to read NUMA node: /sys/bus/pci/devices/0000:0b:00.0/numa_node\n",
      "Your kernel may have been built without NUMA support.\n",
      "2022-10-27 20:44:28.243339: I tensorflow/stream_executor/cuda/cuda_gpu_executor.cc:925] could not open file to read NUMA node: /sys/bus/pci/devices/0000:0b:00.0/numa_node\n",
      "Your kernel may have been built without NUMA support.\n",
      "2022-10-27 20:44:28.910558: I tensorflow/stream_executor/cuda/cuda_gpu_executor.cc:925] could not open file to read NUMA node: /sys/bus/pci/devices/0000:0b:00.0/numa_node\n",
      "Your kernel may have been built without NUMA support.\n",
      "2022-10-27 20:44:28.911020: I tensorflow/stream_executor/cuda/cuda_gpu_executor.cc:925] could not open file to read NUMA node: /sys/bus/pci/devices/0000:0b:00.0/numa_node\n",
      "Your kernel may have been built without NUMA support.\n",
      "2022-10-27 20:44:28.911034: I tensorflow/core/common_runtime/gpu/gpu_device.cc:1609] Could not identify NUMA node of platform GPU id 0, defaulting to 0.  Your kernel may not have been built with NUMA support.\n",
      "2022-10-27 20:44:28.911465: I tensorflow/stream_executor/cuda/cuda_gpu_executor.cc:925] could not open file to read NUMA node: /sys/bus/pci/devices/0000:0b:00.0/numa_node\n",
      "Your kernel may have been built without NUMA support.\n",
      "2022-10-27 20:44:28.911510: I tensorflow/core/common_runtime/gpu/gpu_device.cc:1525] Created device /job:localhost/replica:0/task:0/device:GPU:0 with 9380 MB memory:  -> device: 0, name: NVIDIA GeForce RTX 3080 Ti, pci bus id: 0000:0b:00.0, compute capability: 8.6\n"
     ]
    },
    {
     "name": "stdout",
     "output_type": "stream",
     "text": [
      "Model: \"sequential\"\n",
      "_________________________________________________________________\n",
      " Layer (type)                Output Shape              Param #   \n",
      "=================================================================\n",
      " conv2d (Conv2D)             (None, 32, 32, 6)         456       \n",
      "                                                                 \n",
      " max_pooling2d (MaxPooling2D  (None, 16, 16, 6)        0         \n",
      " )                                                               \n",
      "                                                                 \n",
      " conv2d_1 (Conv2D)           (None, 16, 16, 16)        2416      \n",
      "                                                                 \n",
      " max_pooling2d_1 (MaxPooling  (None, 8, 8, 16)         0         \n",
      " 2D)                                                             \n",
      "                                                                 \n",
      " conv2d_2 (Conv2D)           (None, 8, 8, 120)         48120     \n",
      "                                                                 \n",
      " flatten (Flatten)           (None, 7680)              0         \n",
      "                                                                 \n",
      " dense (Dense)               (None, 84)                645204    \n",
      "                                                                 \n",
      " dense_1 (Dense)             (None, 10)                850       \n",
      "                                                                 \n",
      "=================================================================\n",
      "Total params: 697,046\n",
      "Trainable params: 697,046\n",
      "Non-trainable params: 0\n",
      "_________________________________________________________________\n",
      "Epoch 1/25\n"
     ]
    },
    {
     "name": "stderr",
     "output_type": "stream",
     "text": [
      "2022-10-27 20:44:31.289899: I tensorflow/stream_executor/cuda/cuda_dnn.cc:366] Loaded cuDNN version 8600\n",
      "2022-10-27 20:44:32.287517: I tensorflow/core/platform/default/subprocess.cc:304] Start cannot spawn child process: Permission denied\n",
      "2022-10-27 20:44:32.322544: I tensorflow/core/platform/default/subprocess.cc:304] Start cannot spawn child process: Permission denied\n",
      "2022-10-27 20:44:32.322589: W tensorflow/stream_executor/gpu/asm_compiler.cc:80] Couldn't get ptxas version string: INTERNAL: Couldn't invoke ptxas --version\n",
      "2022-10-27 20:44:32.359109: I tensorflow/core/platform/default/subprocess.cc:304] Start cannot spawn child process: Permission denied\n",
      "2022-10-27 20:44:32.359202: W tensorflow/stream_executor/gpu/redzone_allocator.cc:314] INTERNAL: Failed to launch ptxas\n",
      "Relying on driver to perform ptx compilation. \n",
      "Modify $PATH to customize ptxas location.\n",
      "This message will be only logged once.\n",
      "2022-10-27 20:44:32.433983: I tensorflow/stream_executor/cuda/cuda_blas.cc:1774] TensorFloat-32 will be used for the matrix multiplication. This will only be logged once.\n"
     ]
    },
    {
     "name": "stdout",
     "output_type": "stream",
     "text": [
      "1563/1563 [==============================] - 11s 5ms/step - loss: 1.7554 - accuracy: 0.3900\n",
      "Epoch 2/25\n",
      "1563/1563 [==============================] - 7s 4ms/step - loss: 1.3943 - accuracy: 0.5038\n",
      "Epoch 3/25\n",
      "1563/1563 [==============================] - 6s 4ms/step - loss: 1.2540 - accuracy: 0.5568\n",
      "Epoch 4/25\n",
      "1563/1563 [==============================] - 7s 4ms/step - loss: 1.1403 - accuracy: 0.5976\n",
      "Epoch 5/25\n",
      "1563/1563 [==============================] - 7s 4ms/step - loss: 1.0417 - accuracy: 0.6314\n",
      "Epoch 6/25\n",
      "1563/1563 [==============================] - 12s 8ms/step - loss: 0.9464 - accuracy: 0.6659\n",
      "Epoch 7/25\n",
      "1563/1563 [==============================] - 8s 5ms/step - loss: 0.8535 - accuracy: 0.6992\n",
      "Epoch 8/25\n",
      "1563/1563 [==============================] - 9s 5ms/step - loss: 0.7662 - accuracy: 0.7307\n",
      "Epoch 9/25\n",
      "1563/1563 [==============================] - 6s 4ms/step - loss: 0.6945 - accuracy: 0.7536\n",
      "Epoch 10/25\n",
      "1563/1563 [==============================] - 6s 4ms/step - loss: 0.6165 - accuracy: 0.7826\n",
      "Epoch 11/25\n",
      "1563/1563 [==============================] - 6s 4ms/step - loss: 0.5730 - accuracy: 0.7983\n",
      "Epoch 12/25\n",
      "1563/1563 [==============================] - 6s 4ms/step - loss: 0.5220 - accuracy: 0.8172\n",
      "Epoch 13/25\n",
      "1563/1563 [==============================] - 6s 4ms/step - loss: 0.4687 - accuracy: 0.8358\n",
      "Epoch 14/25\n",
      "1563/1563 [==============================] - 6s 4ms/step - loss: 0.4458 - accuracy: 0.8433\n",
      "Epoch 15/25\n",
      "1563/1563 [==============================] - 6s 4ms/step - loss: 0.4230 - accuracy: 0.8548\n",
      "Epoch 16/25\n",
      "1563/1563 [==============================] - 6s 4ms/step - loss: 0.4047 - accuracy: 0.8592\n",
      "Epoch 17/25\n",
      "1563/1563 [==============================] - 6s 4ms/step - loss: 0.3754 - accuracy: 0.8700\n",
      "Epoch 18/25\n",
      "1563/1563 [==============================] - 6s 4ms/step - loss: 0.3624 - accuracy: 0.8772\n",
      "Epoch 19/25\n",
      "1563/1563 [==============================] - 6s 4ms/step - loss: 0.3674 - accuracy: 0.8774\n",
      "Epoch 20/25\n",
      "1563/1563 [==============================] - 6s 4ms/step - loss: 0.3508 - accuracy: 0.8821\n",
      "Epoch 21/25\n",
      "1563/1563 [==============================] - 86s 55ms/step - loss: 0.3175 - accuracy: 0.8940\n",
      "Epoch 22/25\n",
      "1563/1563 [==============================] - 11s 7ms/step - loss: 0.3327 - accuracy: 0.8913\n",
      "Epoch 23/25\n",
      "1563/1563 [==============================] - 7s 4ms/step - loss: 0.3136 - accuracy: 0.8981\n",
      "Epoch 24/25\n",
      "1563/1563 [==============================] - 7s 5ms/step - loss: 0.3195 - accuracy: 0.8966\n",
      "Epoch 25/25\n",
      "1563/1563 [==============================] - 76s 49ms/step - loss: 0.3098 - accuracy: 0.9013\n"
     ]
    }
   ],
   "source": [
    "# Building the LeNet model in keras\n",
    "lanet = keras.models.Sequential([\n",
    "    keras.layers.Conv2D(6, (5, 5), padding='same', input_shape = [32, 32, 3], activation='relu'),\n",
    "    keras.layers.MaxPooling2D(pool_size=(2, 2), strides=(2,2)),\n",
    "    keras.layers.Conv2D(16, (5, 5), strides=(1, 1), padding='same', activation='relu'),\n",
    "    keras.layers.MaxPooling2D(pool_size=(2, 2), strides=(2,2)),\n",
    "    keras.layers.Conv2D(120, (5, 5), padding='same', activation='relu'),\n",
    "\n",
    "    keras.layers.Flatten(),\n",
    "    keras.layers.Dense(84, activation='relu'),\n",
    "    keras.layers.Dense(10, activation='softmax'),\n",
    "])\n",
    "\n",
    "#Compiling the model with a loss, optimizer, and other metrics\n",
    "lanet.compile(loss=\"sparse_categorical_crossentropy\",\n",
    "              optimizer=\"adam\",\n",
    "              metrics=[\"accuracy\"])\n",
    "\n",
    "#Shows the whole network topology for the compiled CNN\n",
    "lanet.summary()\n",
    "\n",
    "#Training the network.\n",
    "history4 = lanet.fit(x_train, y_train, epochs=25)\n"
   ]
  },
  {
   "cell_type": "code",
   "execution_count": 7,
   "metadata": {},
   "outputs": [
    {
     "data": {
      "image/png": "[encoded data removed]",
      "text/plain": [
       "<Figure size 864x648 with 1 Axes>"
      ]
     },
     "metadata": {
      "needs_background": "light"
     },
     "output_type": "display_data"
    }
   ],
   "source": [
    "# Show the Loss vs Epochs for each architecture.\n",
    "plt.figure(figsize=[12, 9])\n",
    "plt.title(\"LeNet Performance - Loss vs Epochs\")\n",
    "plt.xlabel(\"Epochs\")\n",
    "plt.ylabel(\"Loss\")\n",
    "plt.plot(history4.history['loss'])\n",
    "plt.show()"
   ]
  },
  {
   "cell_type": "markdown",
   "metadata": {
    "id": "JlTPm71d9c0A"
   },
   "source": [
    "***"
   ]
  },
  {
   "cell_type": "markdown",
   "metadata": {
    "id": "Sk3iCH7b9c0A"
   },
   "source": [
    "# Problem 3"
   ]
  },
  {
   "cell_type": "code",
   "execution_count": 28,
   "metadata": {},
   "outputs": [
    {
     "name": "stdout",
     "output_type": "stream",
     "text": [
      "Output of the convolution between the X and f matrices shown above is shown below:\n",
      "[[38. 19. 22. 29.]\n",
      " [39. 28. 39. 48.]\n",
      " [41. 36. 49. 50.]\n",
      " [46. 49. 50. 52.]]\n"
     ]
    }
   ],
   "source": [
    "X = np.array([[7, 5, 0, 0, 3, 2], [6, 4, 5, 1, 4, 8], [9, 0, 2, 2, 5, 4],  [6, 3, 4, 7, 9, 8], [5, 7, 5, 6, 9, 0], [7, 9, 0, 8, 2, 3]])\n",
    "f = np.array([[1, 0, -1], [2, 0, -2], [1, 0, -1]])\n",
    "\n",
    "[a, b] = X.shape\n",
    "y = np.zeros((a-2, b-2))\n",
    "\n",
    "#Algorithm for manual convolution:\n",
    "for i in range(1, X.shape[0]-1):\n",
    "\tfor j in range(1, X.shape[1]-1):\n",
    "\t\tx = X[(i-1):(i+2), (j-1):(j+2)]\n",
    "\t\ts = np.add(f, x)\n",
    "\t\ty[i-1, j-1] = s.sum()\n",
    "\n",
    "print('Output of the convolution between the X and f matrices shown above is shown below:')\n",
    "print(y)"
   ]
  },
  {
   "cell_type": "code",
   "execution_count": 33,
   "metadata": {},
   "outputs": [
    {
     "name": "stdout",
     "output_type": "stream",
     "text": [
      "Output of the max pooling operation.\n",
      "[[39. 48.]\n",
      " [49. 52.]]\n"
     ]
    }
   ],
   "source": [
    "# The following is the max pooling operation performed on the above output. \n",
    "o = np.zeros((2, 2))\n",
    "\n",
    "o[0, 0] = np.max(y[0:2, 0:2])\n",
    "o[1, 0] = np.max(y[2:4, 0:2])\n",
    "o[0, 1] = np.max(y[0:2, 2:4])\n",
    "o[1, 1] = np.max(y[2:4, 2:4])\n",
    "\n",
    "print('Output of the max pooling operation.')\n",
    "print(o)"
   ]
  },
  {
   "cell_type": "markdown",
   "metadata": {},
   "source": [
    "The following are responses to the Problem 3 questions. \n",
    "1. The dimensions of the input and kernel are 6x6x1 and 3x3x1 respectively. The number of parameters\n",
    "   is ((3x3x1)+1)x1 = 10 \n",
    "2. The output activation map is shown above. The dimensions 4x4x1. \n",
    "3. See the output of the max pooling using a stride of (2,2) and a filter size of (2,2) with no\n",
    "   padding. "
   ]
  }
 ],
 "metadata": {
  "colab": {
   "provenance": []
  },
  "kernelspec": {
   "display_name": "Python 3.8.10 64-bit",
   "language": "python",
   "name": "python3"
  },
  "language_info": {
   "codemirror_mode": {
    "name": "ipython",
    "version": 3
   },
   "file_extension": ".py",
   "mimetype": "text/x-python",
   "name": "python",
   "nbconvert_exporter": "python",
   "pygments_lexer": "ipython3",
   "version": "3.8.10"
  },
  "vscode": {
   "interpreter": {
    "hash": "31f2aee4e71d21fbe5cf8b01ff0e069b9275f58929596ceb00d14d90e3e16cd6"
   }
  }
 },
 "nbformat": 4,
 "nbformat_minor": 1
}
