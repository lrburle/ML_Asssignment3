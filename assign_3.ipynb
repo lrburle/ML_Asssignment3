{
  "cells": [
    {
      "cell_type": "code",
      "execution_count": 34,
      "metadata": {
        "colab": {
          "base_uri": "https://localhost:8080/"
        },
        "id": "v7mqEmcY9cz3",
        "outputId": "5d06c170-16f9-4483-ed70-d0d02784ab57"
      },
      "outputs": [
        {
          "name": "stdout",
          "output_type": "stream",
          "text": [
            "fatal: destination path 'ML_Assignment2' already exists and is not an empty directory.\n"
          ]
        }
      ],
      "source": [
        "#!git clone https://github.com/lrburle/ML_Assignment3.git"
      ]
    },
    {
      "cell_type": "markdown",
      "metadata": {
        "id": "M_XRGWMF9cz0"
      },
      "source": [
        "# Assignment 3 - Landon Burleson \n",
        "## Problem 1\n",
        "\n",
        "***"
      ]
    },
    {
      "cell_type": "markdown",
      "metadata": {
        "id": "8DzgCOkj9cz2"
      },
      "source": [
        "## Problem 2"
      ]
    },
    {
      "cell_type": "code",
      "execution_count": 35,
      "metadata": {
        "id": "3iukuJrm9cz4"
      },
      "outputs": [],
      "source": [
        "#Adding in the necessary modules needed to complete Assignment 3\n",
        "import numpy as np\n",
        "import matplotlib.pyplot as plt\n",
        "import sys\n",
        "import tensorflow as tk\n",
        "from tensorflow import keras\n",
        " \n",
        "# adding the subfolder to the path.\n",
        "sys.path.insert(0, './ML_Assignment3')"
      ]
    },
    {
      "cell_type": "code",
      "execution_count": null,
      "metadata": {},
      "outputs": [],
      "source": [
        "# Loading the MNIST dataset \n",
        "mnist = keras.datasets.mnist\n",
        "(x_train_full, y_train_full), (x_test, y_test) = mnist.load_data() \n",
        "\n",
        "#Splits the dataset for validation and training datasets. \n",
        "x_valid, x_train = x_train_full[:5000] / 255.0, x_train_full[5000:] / 255.0\n",
        "y_valid, y_train = y_train_full[:5000], y_train_full[5000:]\n",
        "\n",
        "model = keras.models.Sequential([\n",
        "    keras.layers.Conv2D(64, 7, activation=\"relu\", padding=\"same\", input_shape = [28, 28, 1], name=\"conv1\"),\n",
        "    keras.layers.MaxPooling2D(2, name=\"maxpool1\"),\n",
        "    keras.layers.Conv2D(128, 3, activation=\"relu\", padding=\"same\", name=\"conv2\"),\n",
        "    keras.layers.Conv2D(128, 3, activation=\"relu\", padding=\"same\", name=\"conv3\"),\n",
        "    keras.layers.MaxPooling2D(2, name=\"maxpool2\"),\n",
        "    keras.layers.Conv2D(256, 3, activation=\"relu\", padding=\"same\", name=\"conv4\"), \n",
        "    keras.layers.Conv2D(256, 3, activation=\"relu\", padding=\"same\", name=\"conv5\"), \n",
        "    keras.layers.MaxPooling2D(2, name=\"maxpool3\"),\n",
        "    keras.layers.Flatten(),\n",
        "    keras.layers.Dense(128, activation=\"relu\", name=\"deep1\"), #Dense layers can be atributed to a 'regular' hidden layer of neurons\n",
        "    keras.layers.Dropout(0.5), #Dropout layers are used to avoid overfitting issues training a given neural network\n",
        "    keras.layers.Dense(64, activation=\"relu\", name=\"deep2\"),  \n",
        "    keras.layers.Dropout(0.5),\n",
        "    keras.layers.Dense(10, activation=\"softmax\", name=\"deep3\") \n",
        "])\n",
        "\n",
        "#Compiling the model with a loss, optimizer, and other metrics\n",
        "model.compile(loss=\"sparse_categorical_crossentropy\",\n",
        "              optimizer=\"sgd\",\n",
        "              metrics=[\"accuracy\"])\n",
        "\n",
        "#Shows the whole network topology for the compiled CNN\n",
        "model.summary()\n",
        "\n",
        "#Training the network.\n",
        "model.fit(x_train, y_train, epochs=10, validation_data=(x_valid,y_valid))\n",
        "\n",
        "#Extracting the weights and biases from the neural network by layer name.\n",
        "hidden1_weights = model.get_layer(\"deep1\").weights\n",
        "hidden1_bias = model.get_layer(\"deep1\").bias.numpy()\n",
        "\n",
        "#Using the trained model to make predictions based on the input\n",
        "probability_model = tf.keras.Sequential([model, \n",
        "                                         tf.keras.layers.Softmax()])\n",
        "\n",
        "#Predicts what the image represents. \n",
        "x_test = x_test / 255.0 #Normalizes the input images\n",
        "predictions = probability_model.predict(x_test)\n",
        "\n",
        "# #Returns the most probable output layer based on the input image at index 3\n",
        "print('Predicted value: ' + str(np.argmax(predictions[3])) + ', actual digit: ' + str(y_test[3]))\n",
        "\n",
        "array = x_test[3]\n",
        "\n",
        "#Show the current image\n",
        "plt.figure()\n",
        "plt.imshow(x_test[3], cmap=\"gray\")\n",
        "plt.show()"
      ]
    },
    {
      "cell_type": "markdown",
      "metadata": {
        "id": "JlTPm71d9c0A"
      },
      "source": [
        "***"
      ]
    },
    {
      "cell_type": "markdown",
      "metadata": {
        "id": "Sk3iCH7b9c0A"
      },
      "source": [
        "# Problem 3\n",
        "***"
      ]
    }
  ],
  "metadata": {
    "colab": {
      "provenance": []
    },
    "kernelspec": {
      "display_name": "Python 3.6.8 64-bit",
      "language": "python",
      "name": "python3"
    },
    "language_info": {
      "codemirror_mode": {
        "name": "ipython",
        "version": 3
      },
      "file_extension": ".py",
      "mimetype": "text/x-python",
      "name": "python",
      "nbconvert_exporter": "python",
      "pygments_lexer": "ipython3",
      "version": "3.6.8"
    },
    "orig_nbformat": 4,
    "vscode": {
      "interpreter": {
        "hash": "31f2aee4e71d21fbe5cf8b01ff0e069b9275f58929596ceb00d14d90e3e16cd6"
      }
    }
  },
  "nbformat": 4,
  "nbformat_minor": 0
}
