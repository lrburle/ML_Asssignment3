{
 "cells": [
  {
   "cell_type": "code",
   "execution_count": 34,
   "metadata": {
    "colab": {
     "base_uri": "https://localhost:8080/"
    },
    "id": "v7mqEmcY9cz3",
    "outputId": "5d06c170-16f9-4483-ed70-d0d02784ab57"
   },
   "outputs": [
    {
     "name": "stdout",
     "output_type": "stream",
     "text": [
      "fatal: destination path 'ML_Assignment2' already exists and is not an empty directory.\n"
     ]
    }
   ],
   "source": [
    "#!git clone https://github.com/lrburle/ML_Assignment3.git"
   ]
  },
  {
   "cell_type": "markdown",
   "metadata": {
    "id": "M_XRGWMF9cz0"
   },
   "source": [
    "# Assignment 3 - Landon Burleson \n",
    "## Problem 1\n"
   ]
  },
  {
   "cell_type": "code",
   "execution_count": 2,
   "metadata": {
    "id": "3iukuJrm9cz4"
   },
   "outputs": [],
   "source": [
    "#Adding in the necessary modules needed to complete Assignment 3\n",
    "import numpy as np\n",
    "import matplotlib.pyplot as plt\n",
    "import sys\n",
    "import tensorflow as tf\n",
    "from tensorflow import keras\n",
    " \n",
    "# adding the subfolder to the path.\n",
    "# sys.path.insert(0, './ML_Assignment3')"
   ]
  },
  {
   "cell_type": "code",
   "execution_count": 2,
   "metadata": {},
   "outputs": [],
   "source": [
    "#Pulling in the MNIST test data.\n",
    "mnist = keras.datasets.mnist\n",
    "(x_train_full, y_train_full), (x_test, y_test) = mnist.load_data() \n",
    "\n",
    "#Splits the dataset for validation and training datasets. \n",
    "x_valid, x_train = x_train_full[:5000] / 255.0, x_train_full[5000:] / 255.0\n",
    "y_valid, y_train = y_train_full[:5000], y_train_full[5000:]"
   ]
  },
  {
   "cell_type": "code",
   "execution_count": 9,
   "metadata": {},
   "outputs": [
    {
     "name": "stdout",
     "output_type": "stream",
     "text": [
      "Model: \"sequential_4\"\n",
      "_________________________________________________________________\n",
      " Layer (type)                Output Shape              Param #   \n",
      "=================================================================\n",
      " conv1 (Conv2D)              (None, 28, 28, 32)        320       \n",
      "                                                                 \n",
      " maxpool1 (MaxPooling2D)     (None, 14, 14, 32)        0         \n",
      "                                                                 \n",
      " conv2 (Conv2D)              (None, 14, 14, 64)        18496     \n",
      "                                                                 \n",
      " conv3 (Conv2D)              (None, 14, 14, 64)        36928     \n",
      "                                                                 \n",
      " maxpool2 (MaxPooling2D)     (None, 7, 7, 64)          0         \n",
      "                                                                 \n",
      " conv4 (Conv2D)              (None, 7, 7, 128)         73856     \n",
      "                                                                 \n",
      " conv5 (Conv2D)              (None, 7, 7, 128)         147584    \n",
      "                                                                 \n",
      " maxpool3 (MaxPooling2D)     (None, 3, 3, 128)         0         \n",
      "                                                                 \n",
      " conv6 (Conv2D)              (None, 3, 3, 256)         295168    \n",
      "                                                                 \n",
      " maxpool4 (MaxPooling2D)     (None, 1, 1, 256)         0         \n",
      "                                                                 \n",
      " flatten_4 (Flatten)         (None, 256)               0         \n",
      "                                                                 \n",
      " deep1 (Dense)               (None, 128)               32896     \n",
      "                                                                 \n",
      " deep2 (Dense)               (None, 10)                1290      \n",
      "                                                                 \n",
      "=================================================================\n",
      "Total params: 606,538\n",
      "Trainable params: 606,538\n",
      "Non-trainable params: 0\n",
      "_________________________________________________________________\n",
      "Epoch 1/25\n",
      "1719/1719 [==============================] - 11s 6ms/step - loss: 0.1581 - accuracy: 0.9497 - val_loss: 0.0433 - val_accuracy: 0.9878\n",
      "Epoch 2/25\n",
      "1719/1719 [==============================] - 10s 6ms/step - loss: 0.0458 - accuracy: 0.9868 - val_loss: 0.0411 - val_accuracy: 0.9874\n",
      "Epoch 3/25\n",
      "1719/1719 [==============================] - 10s 6ms/step - loss: 0.0359 - accuracy: 0.9893 - val_loss: 0.0529 - val_accuracy: 0.9878\n",
      "Epoch 4/25\n",
      "1719/1719 [==============================] - 10s 6ms/step - loss: 0.0289 - accuracy: 0.9920 - val_loss: 0.0324 - val_accuracy: 0.9920\n",
      "Epoch 5/25\n",
      "1719/1719 [==============================] - 10s 6ms/step - loss: 0.0245 - accuracy: 0.9925 - val_loss: 0.0354 - val_accuracy: 0.9922\n",
      "Epoch 6/25\n",
      "1719/1719 [==============================] - 10s 6ms/step - loss: 0.0206 - accuracy: 0.9939 - val_loss: 0.0357 - val_accuracy: 0.9922\n",
      "Epoch 7/25\n",
      "1719/1719 [==============================] - 10s 6ms/step - loss: 0.0185 - accuracy: 0.9944 - val_loss: 0.0511 - val_accuracy: 0.9842\n",
      "Epoch 8/25\n",
      "1719/1719 [==============================] - 10s 6ms/step - loss: 0.0143 - accuracy: 0.9959 - val_loss: 0.0509 - val_accuracy: 0.9884\n",
      "Epoch 9/25\n",
      "1719/1719 [==============================] - 10s 6ms/step - loss: 0.0164 - accuracy: 0.9953 - val_loss: 0.0382 - val_accuracy: 0.9916\n",
      "Epoch 10/25\n",
      "1719/1719 [==============================] - 9s 5ms/step - loss: 0.0137 - accuracy: 0.9961 - val_loss: 0.0413 - val_accuracy: 0.9916\n",
      "Epoch 11/25\n",
      "1719/1719 [==============================] - 9s 5ms/step - loss: 0.0151 - accuracy: 0.9956 - val_loss: 0.0437 - val_accuracy: 0.9924\n",
      "Epoch 12/25\n",
      "1719/1719 [==============================] - 9s 5ms/step - loss: 0.0105 - accuracy: 0.9969 - val_loss: 0.0726 - val_accuracy: 0.9862\n",
      "Epoch 13/25\n",
      "1719/1719 [==============================] - 9s 5ms/step - loss: 0.0134 - accuracy: 0.9964 - val_loss: 0.0497 - val_accuracy: 0.9924\n",
      "Epoch 14/25\n",
      "1719/1719 [==============================] - 9s 5ms/step - loss: 0.0128 - accuracy: 0.9964 - val_loss: 0.0383 - val_accuracy: 0.9940\n",
      "Epoch 15/25\n",
      "1719/1719 [==============================] - 10s 6ms/step - loss: 0.0130 - accuracy: 0.9966 - val_loss: 0.0374 - val_accuracy: 0.9912\n",
      "Epoch 16/25\n",
      "1719/1719 [==============================] - 9s 5ms/step - loss: 0.0101 - accuracy: 0.9972 - val_loss: 0.0543 - val_accuracy: 0.9926\n",
      "Epoch 17/25\n",
      "1719/1719 [==============================] - 10s 6ms/step - loss: 0.0096 - accuracy: 0.9974 - val_loss: 0.0469 - val_accuracy: 0.9924\n",
      "Epoch 18/25\n",
      "1719/1719 [==============================] - 10s 6ms/step - loss: 0.0124 - accuracy: 0.9967 - val_loss: 0.0453 - val_accuracy: 0.9930\n",
      "Epoch 19/25\n",
      "1719/1719 [==============================] - 10s 6ms/step - loss: 0.0103 - accuracy: 0.9971 - val_loss: 0.0517 - val_accuracy: 0.9930\n",
      "Epoch 20/25\n",
      "1719/1719 [==============================] - 10s 6ms/step - loss: 0.0098 - accuracy: 0.9974 - val_loss: 0.0705 - val_accuracy: 0.9894\n",
      "Epoch 21/25\n",
      "1719/1719 [==============================] - 10s 6ms/step - loss: 0.0107 - accuracy: 0.9974 - val_loss: 0.0550 - val_accuracy: 0.9922\n",
      "Epoch 22/25\n",
      "1719/1719 [==============================] - 11s 6ms/step - loss: 0.0135 - accuracy: 0.9968 - val_loss: 0.0460 - val_accuracy: 0.9924\n",
      "Epoch 23/25\n",
      "1719/1719 [==============================] - 10s 6ms/step - loss: 0.0087 - accuracy: 0.9977 - val_loss: 0.0522 - val_accuracy: 0.9916\n",
      "Epoch 24/25\n",
      "1719/1719 [==============================] - 9s 5ms/step - loss: 0.0108 - accuracy: 0.9977 - val_loss: 0.0484 - val_accuracy: 0.9920\n",
      "Epoch 25/25\n",
      "1719/1719 [==============================] - 9s 5ms/step - loss: 0.0096 - accuracy: 0.9975 - val_loss: 0.0627 - val_accuracy: 0.9918\n"
     ]
    }
   ],
   "source": [
    "cnn_model1 = keras.models.Sequential([\n",
    "    #Convolution front end.\n",
    "    keras.layers.Conv2D(32, (3, 3), activation=\"relu\", padding=\"same\", input_shape = [28, 28, 1], name=\"conv1\"),\n",
    "    keras.layers.MaxPooling2D((2, 2), name=\"maxpool1\"),\n",
    "    keras.layers.Conv2D(64, (3, 3), activation=\"relu\", padding=\"same\", name=\"conv2\"),\n",
    "    keras.layers.Conv2D(64, (3, 3), activation=\"relu\", padding=\"same\", name=\"conv3\"),\n",
    "    keras.layers.MaxPooling2D((2, 2), name=\"maxpool2\"),\n",
    "    keras.layers.Conv2D(128, (3, 3), activation=\"relu\", padding=\"same\", name=\"conv4\"), \n",
    "    keras.layers.Conv2D(128, (3, 3), activation=\"relu\", padding=\"same\", name=\"conv5\"), \n",
    "    keras.layers.MaxPooling2D((2, 2), name=\"maxpool3\"),\n",
    "    keras.layers.Conv2D(256, (3, 3), activation=\"relu\", padding=\"same\", name=\"conv6\"), \n",
    "    keras.layers.MaxPooling2D((2, 2), name=\"maxpool4\"),\n",
    "\n",
    "\t#Deep learning layers\n",
    "    keras.layers.Flatten(),\n",
    "    keras.layers.Dense(128, activation=\"relu\", name=\"deep1\"), #Dense layers can be atributed to a 'regular' hidden layer of neurons\n",
    "    keras.layers.Dense(10, activation=\"softmax\", name=\"deep2\") \n",
    "])\n",
    "\n",
    "#Shows the whole network topology for the compiled CNN\n",
    "cnn_model1.compile(loss='sparse_categorical_crossentropy', optimizer='adam', metrics=['accuracy'])\n",
    "#Compiling the model with a loss, optimizer, and other metrics\n",
    "cnn_model1.summary()\n",
    "\n",
    "#Training the network.\n",
    "history1 = cnn_model1.fit(x_train, y_train, epochs=25, validation_data=(x_valid,y_valid))\n"
   ]
  },
  {
   "cell_type": "code",
   "execution_count": 13,
   "metadata": {},
   "outputs": [
    {
     "name": "stdout",
     "output_type": "stream",
     "text": [
      "Model: \"sequential_8\"\n",
      "_________________________________________________________________\n",
      " Layer (type)                Output Shape              Param #   \n",
      "=================================================================\n",
      " conv1 (Conv2D)              (None, 28, 28, 256)       2560      \n",
      "                                                                 \n",
      " maxpool1 (MaxPooling2D)     (None, 14, 14, 256)       0         \n",
      "                                                                 \n",
      " conv2 (Conv2D)              (None, 14, 14, 128)       295040    \n",
      "                                                                 \n",
      " conv3 (Conv2D)              (None, 14, 14, 128)       147584    \n",
      "                                                                 \n",
      " maxpool2 (MaxPooling2D)     (None, 7, 7, 128)         0         \n",
      "                                                                 \n",
      " conv4 (Conv2D)              (None, 7, 7, 64)          73792     \n",
      "                                                                 \n",
      " conv5 (Conv2D)              (None, 7, 7, 64)          36928     \n",
      "                                                                 \n",
      " maxpool4 (MaxPooling2D)     (None, 3, 3, 64)          0         \n",
      "                                                                 \n",
      " conv6 (Conv2D)              (None, 3, 3, 32)          18464     \n",
      "                                                                 \n",
      " maxpool5 (MaxPooling2D)     (None, 1, 1, 32)          0         \n",
      "                                                                 \n",
      " flatten_8 (Flatten)         (None, 32)                0         \n",
      "                                                                 \n",
      " deep1 (Dense)               (None, 128)               4224      \n",
      "                                                                 \n",
      " deep2 (Dense)               (None, 10)                1290      \n",
      "                                                                 \n",
      "=================================================================\n",
      "Total params: 579,882\n",
      "Trainable params: 579,882\n",
      "Non-trainable params: 0\n",
      "_________________________________________________________________\n",
      "Epoch 1/25\n",
      "1719/1719 [==============================] - 10s 6ms/step - loss: 0.1683 - accuracy: 0.9465 - val_loss: 0.0717 - val_accuracy: 0.9798\n",
      "Epoch 2/25\n",
      "1719/1719 [==============================] - 10s 6ms/step - loss: 0.0557 - accuracy: 0.9837 - val_loss: 0.0455 - val_accuracy: 0.9858\n",
      "Epoch 3/25\n",
      "1719/1719 [==============================] - 10s 6ms/step - loss: 0.0382 - accuracy: 0.9882 - val_loss: 0.0375 - val_accuracy: 0.9888\n",
      "Epoch 4/25\n",
      "1719/1719 [==============================] - 10s 6ms/step - loss: 0.0317 - accuracy: 0.9907 - val_loss: 0.0586 - val_accuracy: 0.9818\n",
      "Epoch 5/25\n",
      "1719/1719 [==============================] - 10s 6ms/step - loss: 0.0260 - accuracy: 0.9921 - val_loss: 0.0382 - val_accuracy: 0.9902\n",
      "Epoch 6/25\n",
      "1719/1719 [==============================] - 10s 6ms/step - loss: 0.0220 - accuracy: 0.9934 - val_loss: 0.0377 - val_accuracy: 0.9898\n",
      "Epoch 7/25\n",
      "1719/1719 [==============================] - 10s 6ms/step - loss: 0.0204 - accuracy: 0.9936 - val_loss: 0.0532 - val_accuracy: 0.9866\n",
      "Epoch 8/25\n",
      "1719/1719 [==============================] - 10s 6ms/step - loss: 0.0168 - accuracy: 0.9951 - val_loss: 0.0416 - val_accuracy: 0.9890\n",
      "Epoch 9/25\n",
      "1719/1719 [==============================] - 10s 6ms/step - loss: 0.0165 - accuracy: 0.9953 - val_loss: 0.0386 - val_accuracy: 0.9914\n",
      "Epoch 10/25\n",
      "1719/1719 [==============================] - 10s 6ms/step - loss: 0.0135 - accuracy: 0.9963 - val_loss: 0.0295 - val_accuracy: 0.9926\n",
      "Epoch 11/25\n",
      "1719/1719 [==============================] - 10s 6ms/step - loss: 0.0137 - accuracy: 0.9958 - val_loss: 0.0364 - val_accuracy: 0.9936\n",
      "Epoch 12/25\n",
      "1719/1719 [==============================] - 10s 6ms/step - loss: 0.0110 - accuracy: 0.9968 - val_loss: 0.0349 - val_accuracy: 0.9930\n",
      "Epoch 13/25\n",
      "1719/1719 [==============================] - 10s 6ms/step - loss: 0.0124 - accuracy: 0.9965 - val_loss: 0.0486 - val_accuracy: 0.9908\n",
      "Epoch 14/25\n",
      "1719/1719 [==============================] - 10s 6ms/step - loss: 0.0114 - accuracy: 0.9967 - val_loss: 0.0366 - val_accuracy: 0.9902\n",
      "Epoch 15/25\n",
      "1719/1719 [==============================] - 10s 6ms/step - loss: 0.0118 - accuracy: 0.9965 - val_loss: 0.0428 - val_accuracy: 0.9920\n",
      "Epoch 16/25\n",
      "1719/1719 [==============================] - 9s 5ms/step - loss: 0.0093 - accuracy: 0.9973 - val_loss: 0.0308 - val_accuracy: 0.9934\n",
      "Epoch 17/25\n",
      "1719/1719 [==============================] - 9s 5ms/step - loss: 0.0095 - accuracy: 0.9974 - val_loss: 0.0708 - val_accuracy: 0.9860\n",
      "Epoch 18/25\n",
      "1719/1719 [==============================] - 9s 5ms/step - loss: 0.0099 - accuracy: 0.9970 - val_loss: 0.0444 - val_accuracy: 0.9908\n",
      "Epoch 19/25\n",
      "1719/1719 [==============================] - 10s 6ms/step - loss: 0.0108 - accuracy: 0.9969 - val_loss: 0.0427 - val_accuracy: 0.9930\n",
      "Epoch 20/25\n",
      "1719/1719 [==============================] - 10s 6ms/step - loss: 0.0089 - accuracy: 0.9976 - val_loss: 0.0476 - val_accuracy: 0.9920\n",
      "Epoch 21/25\n",
      "1719/1719 [==============================] - 9s 6ms/step - loss: 0.0098 - accuracy: 0.9971 - val_loss: 0.0571 - val_accuracy: 0.9914\n",
      "Epoch 22/25\n",
      "1719/1719 [==============================] - 10s 6ms/step - loss: 0.0090 - accuracy: 0.9977 - val_loss: 0.0711 - val_accuracy: 0.9910\n",
      "Epoch 23/25\n",
      "1719/1719 [==============================] - 10s 6ms/step - loss: 0.0088 - accuracy: 0.9977 - val_loss: 0.0664 - val_accuracy: 0.9932\n",
      "Epoch 24/25\n",
      "1719/1719 [==============================] - 10s 6ms/step - loss: 0.0076 - accuracy: 0.9980 - val_loss: 0.0486 - val_accuracy: 0.9916\n",
      "Epoch 25/25\n",
      "1719/1719 [==============================] - 10s 6ms/step - loss: 0.0090 - accuracy: 0.9978 - val_loss: 0.0582 - val_accuracy: 0.9912\n"
     ]
    }
   ],
   "source": [
    "#Creating the sequential model for a the number of filters decreasing as the layers increase\n",
    "cnn_model2 = keras.models.Sequential([\n",
    "    #Convolution front end.\n",
    "    keras.layers.Conv2D(256, (3, 3), activation=\"relu\", padding=\"same\", input_shape = [28, 28, 1], name=\"conv1\"),\n",
    "    keras.layers.MaxPooling2D((2, 2), name=\"maxpool1\"),\n",
    "    keras.layers.Conv2D(128, (3, 3), activation=\"relu\", padding=\"same\", name=\"conv2\"),\n",
    "    keras.layers.Conv2D(128, (3, 3), activation=\"relu\", padding=\"same\", name=\"conv3\"),\n",
    "    keras.layers.MaxPooling2D((2, 2), name=\"maxpool2\"),\n",
    "    keras.layers.Conv2D(64, (3, 3), activation=\"relu\", padding=\"same\", name=\"conv4\"), \n",
    "    keras.layers.Conv2D(64, (3, 3), activation=\"relu\", padding=\"same\", name=\"conv5\"), \n",
    "    keras.layers.MaxPooling2D((2, 2), name=\"maxpool4\"),\n",
    "    keras.layers.Conv2D(32, (3, 3), activation=\"relu\", padding=\"same\", name=\"conv6\"), \n",
    "    keras.layers.MaxPooling2D((2, 2), name=\"maxpool5\"),\n",
    "\n",
    "\t#Deep learning layers\n",
    "    keras.layers.Flatten(),\n",
    "    keras.layers.Dense(128, activation=\"relu\", name=\"deep1\"), #Dense layers can be atributed to a 'regular' hidden layer of neurons\n",
    "    keras.layers.Dense(10, activation=\"softmax\", name=\"deep2\") \n",
    "])\n",
    "\n",
    "#Shows the whole network topology for the compiled CNN\n",
    "cnn_model2.compile(loss='sparse_categorical_crossentropy', optimizer='adam', metrics=['accuracy'])\n",
    "#Compiling the model with a loss, optimizer, and other metrics\n",
    "cnn_model2.summary()\n",
    "\n",
    "#Training the network.\n",
    "history2 = cnn_model2.fit(x_train, y_train, epochs=25, validation_data=(x_valid,y_valid))"
   ]
  },
  {
   "cell_type": "code",
   "execution_count": 14,
   "metadata": {},
   "outputs": [
    {
     "name": "stdout",
     "output_type": "stream",
     "text": [
      "Model: \"sequential_9\"\n",
      "_________________________________________________________________\n",
      " Layer (type)                Output Shape              Param #   \n",
      "=================================================================\n",
      " conv1 (Conv2D)              (None, 28, 28, 256)       2560      \n",
      "                                                                 \n",
      " maxpool1 (MaxPooling2D)     (None, 14, 14, 256)       0         \n",
      "                                                                 \n",
      " conv2 (Conv2D)              (None, 14, 14, 128)       295040    \n",
      "                                                                 \n",
      " conv3 (Conv2D)              (None, 14, 14, 64)        73792     \n",
      "                                                                 \n",
      " maxpool2 (MaxPooling2D)     (None, 7, 7, 64)          0         \n",
      "                                                                 \n",
      " conv6 (Conv2D)              (None, 7, 7, 64)          36928     \n",
      "                                                                 \n",
      " conv7 (Conv2D)              (None, 7, 7, 128)         73856     \n",
      "                                                                 \n",
      " maxpool4 (MaxPooling2D)     (None, 3, 3, 128)         0         \n",
      "                                                                 \n",
      " conv8 (Conv2D)              (None, 3, 3, 256)         295168    \n",
      "                                                                 \n",
      " maxpool5 (MaxPooling2D)     (None, 1, 1, 256)         0         \n",
      "                                                                 \n",
      " flatten_9 (Flatten)         (None, 256)               0         \n",
      "                                                                 \n",
      " deep1 (Dense)               (None, 128)               32896     \n",
      "                                                                 \n",
      " deep2 (Dense)               (None, 10)                1290      \n",
      "                                                                 \n",
      "=================================================================\n",
      "Total params: 811,530\n",
      "Trainable params: 811,530\n",
      "Non-trainable params: 0\n",
      "_________________________________________________________________\n",
      "Epoch 1/25\n",
      "1719/1719 [==============================] - 10s 6ms/step - loss: 0.0085 - accuracy: 0.9976 - val_loss: 0.0757 - val_accuracy: 0.9864\n",
      "Epoch 2/25\n",
      "1719/1719 [==============================] - 11s 6ms/step - loss: 0.0094 - accuracy: 0.9974 - val_loss: 0.0482 - val_accuracy: 0.9910\n",
      "Epoch 3/25\n",
      "1719/1719 [==============================] - 11s 6ms/step - loss: 0.0075 - accuracy: 0.9981 - val_loss: 0.0655 - val_accuracy: 0.9906\n",
      "Epoch 4/25\n",
      "1719/1719 [==============================] - 10s 6ms/step - loss: 0.0081 - accuracy: 0.9978 - val_loss: 0.0733 - val_accuracy: 0.9904\n",
      "Epoch 5/25\n",
      "1719/1719 [==============================] - 10s 6ms/step - loss: 0.0102 - accuracy: 0.9975 - val_loss: 0.0795 - val_accuracy: 0.9904\n",
      "Epoch 6/25\n",
      "1719/1719 [==============================] - 10s 6ms/step - loss: 0.0071 - accuracy: 0.9981 - val_loss: 0.0686 - val_accuracy: 0.9916\n",
      "Epoch 7/25\n",
      "1719/1719 [==============================] - 9s 5ms/step - loss: 0.0105 - accuracy: 0.9972 - val_loss: 0.0562 - val_accuracy: 0.9914\n",
      "Epoch 8/25\n",
      "1719/1719 [==============================] - 10s 6ms/step - loss: 0.0073 - accuracy: 0.9982 - val_loss: 0.0640 - val_accuracy: 0.9924\n",
      "Epoch 9/25\n",
      "1719/1719 [==============================] - 10s 6ms/step - loss: 0.0052 - accuracy: 0.9985 - val_loss: 0.0614 - val_accuracy: 0.9916\n",
      "Epoch 10/25\n",
      "1719/1719 [==============================] - 10s 6ms/step - loss: 0.0089 - accuracy: 0.9979 - val_loss: 0.0670 - val_accuracy: 0.9924\n",
      "Epoch 11/25\n",
      "1719/1719 [==============================] - 10s 6ms/step - loss: 0.0075 - accuracy: 0.9981 - val_loss: 0.1369 - val_accuracy: 0.9882\n",
      "Epoch 12/25\n",
      "1719/1719 [==============================] - 10s 6ms/step - loss: 0.0068 - accuracy: 0.9983 - val_loss: 0.0992 - val_accuracy: 0.9902\n",
      "Epoch 13/25\n",
      "1719/1719 [==============================] - 10s 6ms/step - loss: 0.0107 - accuracy: 0.9981 - val_loss: 0.0771 - val_accuracy: 0.9914\n",
      "Epoch 14/25\n",
      "1719/1719 [==============================] - 10s 6ms/step - loss: 0.0105 - accuracy: 0.9976 - val_loss: 0.0874 - val_accuracy: 0.9898\n",
      "Epoch 15/25\n",
      "1719/1719 [==============================] - 10s 6ms/step - loss: 0.0089 - accuracy: 0.9982 - val_loss: 0.0728 - val_accuracy: 0.9902\n",
      "Epoch 16/25\n",
      "1719/1719 [==============================] - 10s 6ms/step - loss: 0.0084 - accuracy: 0.9982 - val_loss: 0.0813 - val_accuracy: 0.9906\n",
      "Epoch 17/25\n",
      "1719/1719 [==============================] - 10s 6ms/step - loss: 0.0080 - accuracy: 0.9983 - val_loss: 0.0931 - val_accuracy: 0.9902\n",
      "Epoch 18/25\n",
      "1719/1719 [==============================] - 10s 6ms/step - loss: 0.0058 - accuracy: 0.9985 - val_loss: 0.0830 - val_accuracy: 0.9916\n",
      "Epoch 19/25\n",
      "1719/1719 [==============================] - 10s 6ms/step - loss: 0.0082 - accuracy: 0.9981 - val_loss: 0.1225 - val_accuracy: 0.9916\n",
      "Epoch 20/25\n",
      "1719/1719 [==============================] - 10s 6ms/step - loss: 0.0060 - accuracy: 0.9988 - val_loss: 0.1171 - val_accuracy: 0.9894\n",
      "Epoch 21/25\n",
      "1719/1719 [==============================] - 10s 6ms/step - loss: 0.0105 - accuracy: 0.9979 - val_loss: 0.1002 - val_accuracy: 0.9900\n",
      "Epoch 22/25\n",
      "1719/1719 [==============================] - 11s 6ms/step - loss: 0.0091 - accuracy: 0.9982 - val_loss: 0.0655 - val_accuracy: 0.9914\n",
      "Epoch 23/25\n",
      "1719/1719 [==============================] - 11s 6ms/step - loss: 0.0084 - accuracy: 0.9984 - val_loss: 0.0897 - val_accuracy: 0.9902\n",
      "Epoch 24/25\n",
      "1719/1719 [==============================] - 11s 6ms/step - loss: 0.0087 - accuracy: 0.9984 - val_loss: 0.1133 - val_accuracy: 0.9874\n",
      "Epoch 25/25\n",
      "1719/1719 [==============================] - 10s 6ms/step - loss: 0.0098 - accuracy: 0.9979 - val_loss: 0.1061 - val_accuracy: 0.9882\n"
     ]
    }
   ],
   "source": [
    "#Creating the sequential model for a the number of filters decreasing as the layers increase\n",
    "cnn_model3 = keras.models.Sequential([\n",
    "    #Convolution front end.\n",
    "    keras.layers.Conv2D(256, (3, 3), activation=\"relu\", padding=\"same\", input_shape = [28, 28, 1], name=\"conv1\"),\n",
    "    keras.layers.MaxPooling2D((2, 2), name=\"maxpool1\"),\n",
    "    keras.layers.Conv2D(128, (3, 3), activation=\"relu\", padding=\"same\", name=\"conv2\"),\n",
    "    keras.layers.Conv2D(64, (3, 3), activation=\"relu\", padding=\"same\", name=\"conv3\"),\n",
    "    keras.layers.MaxPooling2D((2, 2), name=\"maxpool2\"),\n",
    "    keras.layers.Conv2D(64, (3, 3), activation=\"relu\", padding=\"same\", name=\"conv6\"), \n",
    "    keras.layers.Conv2D(128, (3, 3), activation=\"relu\", padding=\"same\", name=\"conv7\"), \n",
    "    keras.layers.MaxPooling2D((2, 2), name=\"maxpool4\"),\n",
    "    keras.layers.Conv2D(256, (3, 3), activation=\"relu\", padding=\"same\", name=\"conv8\"), \n",
    "    keras.layers.MaxPooling2D((2, 2), name=\"maxpool5\"),\n",
    "\n",
    "\t#Deep learning layers\n",
    "    keras.layers.Flatten(),\n",
    "    keras.layers.Dense(128, activation=\"relu\", name=\"deep1\"), #Dense layers can be atributed to a 'regular' hidden layer of neurons\n",
    "    keras.layers.Dense(10, activation=\"softmax\", name=\"deep2\") \n",
    "])\n",
    "\n",
    "#Shows the whole network topology for the compiled CNN\n",
    "cnn_model3.compile(loss='sparse_categorical_crossentropy', optimizer='adam', metrics=['accuracy'])\n",
    "#Compiling the model with a loss, optimizer, and other metrics\n",
    "cnn_model3.summary()\n",
    "\n",
    "#Training the network.\n",
    "history3 = cnn_model2.fit(x_train, y_train, epochs=25, validation_data=(x_valid,y_valid))"
   ]
  },
  {
   "cell_type": "code",
   "execution_count": 18,
   "metadata": {},
   "outputs": [
    {
     "data": {
      "image/png": "[encoded data removed]",
      "text/plain": [
       "<Figure size 864x648 with 1 Axes>"
      ]
     },
     "metadata": {
      "needs_background": "light"
     },
     "output_type": "display_data"
    }
   ],
   "source": [
    "# Show the Loss vs Epochs for each architecture.\n",
    "plt.figure(figsize=[12, 9])\n",
    "plt.title(\"Architectural CNN Performance Comparison\")\n",
    "plt.xlabel(\"Epochs\")\n",
    "plt.ylabel(\"Loss\")\n",
    "plt.plot(history1.history['loss'])\n",
    "plt.plot(history2.history['loss'])\n",
    "plt.plot(history3.history['loss'])\n",
    "plt.legend(['Architecture - 10 Layer CNN - Filter Number Increasing', 'Architecture - 10 Layer CNN - Filter Number Decreasing', 'Architecture - 10 Layer CNN - Filter Number Hourglass'], loc='upper right')\n",
    "plt.show()"
   ]
  },
  {
   "cell_type": "markdown",
   "metadata": {
    "id": "8DzgCOkj9cz2"
   },
   "source": [
    "## Problem 2\n",
    "\n",
    "The following code demonstrates the LaNet7 architecture in tensorflow using the MNIST dataset. "
   ]
  },
  {
   "cell_type": "code",
   "execution_count": 3,
   "metadata": {},
   "outputs": [
    {
     "name": "stdout",
     "output_type": "stream",
     "text": [
      "Downloading data from https://www.cs.toronto.edu/~kriz/cifar-10-python.tar.gz\n",
      "170500096/170498071 [==============================] - 28s 0us/step\n",
      "170508288/170498071 [==============================] - 28s 0us/step\n"
     ]
    }
   ],
   "source": [
    "#Pulling in the MNIST test data.\n",
    "cifar10 = keras.datasets.cifar10\n",
    "(x_train_full, y_train_full), (x_test, y_test) = cifar10.load_data() \n",
    "\n",
    "#Splits the dataset for validation and training datasets. \n",
    "x_valid, x_train = x_train_full[:5000] / 255.0, x_train_full[5000:] / 255.0\n",
    "y_valid, y_train = y_train_full[:5000], y_train_full[5000:]"
   ]
  },
  {
   "cell_type": "code",
   "execution_count": 4,
   "metadata": {},
   "outputs": [
    {
     "name": "stderr",
     "output_type": "stream",
     "text": [
      "2022-10-24 19:39:06.499276: I tensorflow/stream_executor/cuda/cuda_gpu_executor.cc:925] could not open file to read NUMA node: /sys/bus/pci/devices/0000:0b:00.0/numa_node\n",
      "Your kernel may have been built without NUMA support.\n",
      "2022-10-24 19:39:06.569595: I tensorflow/stream_executor/cuda/cuda_gpu_executor.cc:925] could not open file to read NUMA node: /sys/bus/pci/devices/0000:0b:00.0/numa_node\n",
      "Your kernel may have been built without NUMA support.\n",
      "2022-10-24 19:39:06.569961: I tensorflow/stream_executor/cuda/cuda_gpu_executor.cc:925] could not open file to read NUMA node: /sys/bus/pci/devices/0000:0b:00.0/numa_node\n",
      "Your kernel may have been built without NUMA support.\n",
      "2022-10-24 19:39:06.571288: I tensorflow/core/platform/cpu_feature_guard.cc:151] This TensorFlow binary is optimized with oneAPI Deep Neural Network Library (oneDNN) to use the following CPU instructions in performance-critical operations:  AVX2 FMA\n",
      "To enable them in other operations, rebuild TensorFlow with the appropriate compiler flags.\n",
      "2022-10-24 19:39:06.573052: I tensorflow/stream_executor/cuda/cuda_gpu_executor.cc:925] could not open file to read NUMA node: /sys/bus/pci/devices/0000:0b:00.0/numa_node\n",
      "Your kernel may have been built without NUMA support.\n",
      "2022-10-24 19:39:06.573418: I tensorflow/stream_executor/cuda/cuda_gpu_executor.cc:925] could not open file to read NUMA node: /sys/bus/pci/devices/0000:0b:00.0/numa_node\n",
      "Your kernel may have been built without NUMA support.\n",
      "2022-10-24 19:39:06.573764: I tensorflow/stream_executor/cuda/cuda_gpu_executor.cc:925] could not open file to read NUMA node: /sys/bus/pci/devices/0000:0b:00.0/numa_node\n",
      "Your kernel may have been built without NUMA support.\n",
      "2022-10-24 19:39:07.384724: I tensorflow/stream_executor/cuda/cuda_gpu_executor.cc:925] could not open file to read NUMA node: /sys/bus/pci/devices/0000:0b:00.0/numa_node\n",
      "Your kernel may have been built without NUMA support.\n",
      "2022-10-24 19:39:07.385098: I tensorflow/stream_executor/cuda/cuda_gpu_executor.cc:925] could not open file to read NUMA node: /sys/bus/pci/devices/0000:0b:00.0/numa_node\n",
      "Your kernel may have been built without NUMA support.\n",
      "2022-10-24 19:39:07.385108: I tensorflow/core/common_runtime/gpu/gpu_device.cc:1609] Could not identify NUMA node of platform GPU id 0, defaulting to 0.  Your kernel may not have been built with NUMA support.\n",
      "2022-10-24 19:39:07.385485: I tensorflow/stream_executor/cuda/cuda_gpu_executor.cc:925] could not open file to read NUMA node: /sys/bus/pci/devices/0000:0b:00.0/numa_node\n",
      "Your kernel may have been built without NUMA support.\n",
      "2022-10-24 19:39:07.385523: I tensorflow/core/common_runtime/gpu/gpu_device.cc:1525] Created device /job:localhost/replica:0/task:0/device:GPU:0 with 9390 MB memory:  -> device: 0, name: NVIDIA GeForce RTX 3080 Ti, pci bus id: 0000:0b:00.0, compute capability: 8.6\n"
     ]
    },
    {
     "name": "stdout",
     "output_type": "stream",
     "text": [
      "Model: \"sequential\"\n",
      "_________________________________________________________________\n",
      " Layer (type)                Output Shape              Param #   \n",
      "=================================================================\n",
      " conv2d (Conv2D)             (None, 32, 32, 6)         456       \n",
      "                                                                 \n",
      " max_pooling2d (MaxPooling2D  (None, 16, 16, 6)        0         \n",
      " )                                                               \n",
      "                                                                 \n",
      " conv2d_1 (Conv2D)           (None, 16, 16, 16)        2416      \n",
      "                                                                 \n",
      " max_pooling2d_1 (MaxPooling  (None, 8, 8, 16)         0         \n",
      " 2D)                                                             \n",
      "                                                                 \n",
      " conv2d_2 (Conv2D)           (None, 8, 8, 120)         48120     \n",
      "                                                                 \n",
      " flatten (Flatten)           (None, 7680)              0         \n",
      "                                                                 \n",
      " dense (Dense)               (None, 84)                645204    \n",
      "                                                                 \n",
      " dense_1 (Dense)             (None, 10)                850       \n",
      "                                                                 \n",
      "=================================================================\n",
      "Total params: 697,046\n",
      "Trainable params: 697,046\n",
      "Non-trainable params: 0\n",
      "_________________________________________________________________\n",
      "Epoch 1/25\n"
     ]
    },
    {
     "name": "stderr",
     "output_type": "stream",
     "text": [
      "2022-10-24 19:39:09.837323: I tensorflow/stream_executor/cuda/cuda_dnn.cc:366] Loaded cuDNN version 8600\n",
      "2022-10-24 19:39:10.956018: I tensorflow/core/platform/default/subprocess.cc:304] Start cannot spawn child process: Permission denied\n",
      "2022-10-24 19:39:10.996046: I tensorflow/core/platform/default/subprocess.cc:304] Start cannot spawn child process: Permission denied\n",
      "2022-10-24 19:39:10.996090: W tensorflow/stream_executor/gpu/asm_compiler.cc:80] Couldn't get ptxas version string: INTERNAL: Couldn't invoke ptxas --version\n",
      "2022-10-24 19:39:11.036314: I tensorflow/core/platform/default/subprocess.cc:304] Start cannot spawn child process: Permission denied\n",
      "2022-10-24 19:39:11.036401: W tensorflow/stream_executor/gpu/redzone_allocator.cc:314] INTERNAL: Failed to launch ptxas\n",
      "Relying on driver to perform ptx compilation. \n",
      "Modify $PATH to customize ptxas location.\n",
      "This message will be only logged once.\n",
      "2022-10-24 19:39:11.077466: I tensorflow/stream_executor/cuda/cuda_blas.cc:1774] TensorFloat-32 will be used for the matrix multiplication. This will only be logged once.\n"
     ]
    },
    {
     "name": "stdout",
     "output_type": "stream",
     "text": [
      "1407/1407 [==============================] - 10s 5ms/step - loss: 1.5292 - accuracy: 0.4458 - val_loss: 1.2940 - val_accuracy: 0.5330\n",
      "Epoch 2/25\n",
      "1407/1407 [==============================] - 6s 4ms/step - loss: 1.1711 - accuracy: 0.5851 - val_loss: 1.1422 - val_accuracy: 0.5956\n",
      "Epoch 3/25\n",
      "1407/1407 [==============================] - 6s 4ms/step - loss: 1.0022 - accuracy: 0.6460 - val_loss: 1.0197 - val_accuracy: 0.6406\n",
      "Epoch 4/25\n",
      "1407/1407 [==============================] - 6s 4ms/step - loss: 0.8824 - accuracy: 0.6902 - val_loss: 0.9517 - val_accuracy: 0.6614\n",
      "Epoch 5/25\n",
      "1407/1407 [==============================] - 6s 4ms/step - loss: 0.7802 - accuracy: 0.7267 - val_loss: 0.9499 - val_accuracy: 0.6678\n",
      "Epoch 6/25\n",
      "1407/1407 [==============================] - 6s 4ms/step - loss: 0.6848 - accuracy: 0.7578 - val_loss: 0.9814 - val_accuracy: 0.6692\n",
      "Epoch 7/25\n",
      "1407/1407 [==============================] - 6s 4ms/step - loss: 0.5933 - accuracy: 0.7873 - val_loss: 1.0112 - val_accuracy: 0.6694\n",
      "Epoch 8/25\n",
      "1407/1407 [==============================] - 6s 4ms/step - loss: 0.5042 - accuracy: 0.8214 - val_loss: 1.0744 - val_accuracy: 0.6708\n",
      "Epoch 9/25\n",
      "1407/1407 [==============================] - 6s 4ms/step - loss: 0.4289 - accuracy: 0.8488 - val_loss: 1.1575 - val_accuracy: 0.6664\n",
      "Epoch 10/25\n",
      "1407/1407 [==============================] - 6s 4ms/step - loss: 0.3555 - accuracy: 0.8730 - val_loss: 1.2205 - val_accuracy: 0.6630\n",
      "Epoch 11/25\n",
      "1407/1407 [==============================] - 6s 4ms/step - loss: 0.2963 - accuracy: 0.8949 - val_loss: 1.3630 - val_accuracy: 0.6660\n",
      "Epoch 12/25\n",
      "1407/1407 [==============================] - 6s 4ms/step - loss: 0.2516 - accuracy: 0.9118 - val_loss: 1.4890 - val_accuracy: 0.6614\n",
      "Epoch 13/25\n",
      "1407/1407 [==============================] - 6s 4ms/step - loss: 0.2215 - accuracy: 0.9208 - val_loss: 1.7015 - val_accuracy: 0.6666\n",
      "Epoch 14/25\n",
      "1407/1407 [==============================] - 6s 4ms/step - loss: 0.1876 - accuracy: 0.9335 - val_loss: 1.7787 - val_accuracy: 0.6542\n",
      "Epoch 15/25\n",
      "1407/1407 [==============================] - 6s 4ms/step - loss: 0.1704 - accuracy: 0.9392 - val_loss: 1.8619 - val_accuracy: 0.6588\n",
      "Epoch 16/25\n",
      "1407/1407 [==============================] - 6s 4ms/step - loss: 0.1543 - accuracy: 0.9468 - val_loss: 1.9328 - val_accuracy: 0.6530\n",
      "Epoch 17/25\n",
      "1407/1407 [==============================] - 6s 4ms/step - loss: 0.1448 - accuracy: 0.9505 - val_loss: 2.1220 - val_accuracy: 0.6496\n",
      "Epoch 18/25\n",
      "1407/1407 [==============================] - 6s 4ms/step - loss: 0.1386 - accuracy: 0.9518 - val_loss: 2.2520 - val_accuracy: 0.6506\n",
      "Epoch 19/25\n",
      "1407/1407 [==============================] - 6s 4ms/step - loss: 0.1364 - accuracy: 0.9537 - val_loss: 2.3774 - val_accuracy: 0.6446\n",
      "Epoch 20/25\n",
      "1407/1407 [==============================] - 6s 4ms/step - loss: 0.1143 - accuracy: 0.9605 - val_loss: 2.4168 - val_accuracy: 0.6470\n",
      "Epoch 21/25\n",
      "1407/1407 [==============================] - 6s 4ms/step - loss: 0.1172 - accuracy: 0.9605 - val_loss: 2.4194 - val_accuracy: 0.6544\n",
      "Epoch 22/25\n",
      "1407/1407 [==============================] - 6s 4ms/step - loss: 0.1127 - accuracy: 0.9618 - val_loss: 2.5358 - val_accuracy: 0.6438\n",
      "Epoch 23/25\n",
      "1407/1407 [==============================] - 6s 4ms/step - loss: 0.1190 - accuracy: 0.9603 - val_loss: 2.5117 - val_accuracy: 0.6558\n",
      "Epoch 24/25\n",
      "1407/1407 [==============================] - 6s 4ms/step - loss: 0.1017 - accuracy: 0.9659 - val_loss: 2.7872 - val_accuracy: 0.6514\n",
      "Epoch 25/25\n",
      "1407/1407 [==============================] - 6s 4ms/step - loss: 0.1103 - accuracy: 0.9639 - val_loss: 2.7680 - val_accuracy: 0.6552\n"
     ]
    }
   ],
   "source": [
    "# Building the LeNet model in keras\n",
    "lanet = keras.models.Sequential([\n",
    "    keras.layers.Conv2D(6, (5, 5), padding='same', input_shape = [32, 32, 3], activation='relu'),\n",
    "    keras.layers.MaxPooling2D(pool_size=(2, 2), strides=(2,2)),\n",
    "    keras.layers.Conv2D(16, (5, 5), strides=(1, 1), padding='same', activation='relu'),\n",
    "    keras.layers.MaxPooling2D(pool_size=(2, 2), strides=(2,2)),\n",
    "    keras.layers.Conv2D(120, (5, 5), padding='same', activation='relu'),\n",
    "\n",
    "    keras.layers.Flatten(),\n",
    "    keras.layers.Dense(84, activation='relu'),\n",
    "    keras.layers.Dense(10, activation='softmax'),\n",
    "])\n",
    "\n",
    "#Compiling the model with a loss, optimizer, and other metrics\n",
    "lanet.compile(loss=\"sparse_categorical_crossentropy\",\n",
    "              optimizer=\"adam\",\n",
    "              metrics=[\"accuracy\"])\n",
    "\n",
    "#Shows the whole network topology for the compiled CNN\n",
    "lanet.summary()\n",
    "\n",
    "#Training the network.\n",
    "history4 = lanet.fit(x_train, y_train, epochs=25, validation_data=(x_valid,y_valid))\n"
   ]
  },
  {
   "cell_type": "code",
   "execution_count": 5,
   "metadata": {},
   "outputs": [
    {
     "data": {
      "image/png": "[encoded data removed]",
      "text/plain": [
       "<Figure size 864x648 with 1 Axes>"
      ]
     },
     "metadata": {
      "needs_background": "light"
     },
     "output_type": "display_data"
    }
   ],
   "source": [
    "# Show the Loss vs Epochs for each architecture.\n",
    "plt.figure(figsize=[12, 9])\n",
    "plt.title(\"LeNet Performance - Loss vs Epochs\")\n",
    "plt.xlabel(\"Epochs\")\n",
    "plt.ylabel(\"Loss\")\n",
    "plt.plot(history4.history['loss'])\n",
    "plt.show()"
   ]
  },
  {
   "cell_type": "markdown",
   "metadata": {
    "id": "JlTPm71d9c0A"
   },
   "source": [
    "***"
   ]
  },
  {
   "cell_type": "markdown",
   "metadata": {
    "id": "Sk3iCH7b9c0A"
   },
   "source": [
    "# Problem 3"
   ]
  },
  {
   "cell_type": "code",
   "execution_count": 28,
   "metadata": {},
   "outputs": [
    {
     "name": "stdout",
     "output_type": "stream",
     "text": [
      "Output of the convolution between the X and f matrices shown above is shown below:\n",
      "[[38. 19. 22. 29.]\n",
      " [39. 28. 39. 48.]\n",
      " [41. 36. 49. 50.]\n",
      " [46. 49. 50. 52.]]\n"
     ]
    }
   ],
   "source": [
    "X = np.array([[7, 5, 0, 0, 3, 2], [6, 4, 5, 1, 4, 8], [9, 0, 2, 2, 5, 4],  [6, 3, 4, 7, 9, 8], [5, 7, 5, 6, 9, 0], [7, 9, 0, 8, 2, 3]])\n",
    "f = np.array([[1, 0, -1], [2, 0, -2], [1, 0, -1]])\n",
    "\n",
    "[a, b] = X.shape\n",
    "y = np.zeros((a-2, b-2))\n",
    "\n",
    "#Algorithm for manual convolution:\n",
    "for i in range(1, X.shape[0]-1):\n",
    "\tfor j in range(1, X.shape[1]-1):\n",
    "\t\tx = X[(i-1):(i+2), (j-1):(j+2)]\n",
    "\t\ts = np.add(f, x)\n",
    "\t\ty[i-1, j-1] = s.sum()\n",
    "\n",
    "print('Output of the convolution between the X and f matrices shown above is shown below:')\n",
    "print(y)"
   ]
  },
  {
   "cell_type": "code",
   "execution_count": 33,
   "metadata": {},
   "outputs": [
    {
     "name": "stdout",
     "output_type": "stream",
     "text": [
      "Output of the max pooling operation.\n",
      "[[39. 48.]\n",
      " [49. 52.]]\n"
     ]
    }
   ],
   "source": [
    "# The following is the max pooling operation performed on the above output. \n",
    "o = np.zeros((2, 2))\n",
    "\n",
    "o[0, 0] = np.max(y[0:2, 0:2])\n",
    "o[1, 0] = np.max(y[2:4, 0:2])\n",
    "o[0, 1] = np.max(y[0:2, 2:4])\n",
    "o[1, 1] = np.max(y[2:4, 2:4])\n",
    "\n",
    "print('Output of the max pooling operation.')\n",
    "print(o)"
   ]
  },
  {
   "cell_type": "markdown",
   "metadata": {},
   "source": [
    "The following are responses to the Problem 3 questions. \n",
    "1. The dimensions of the input and kernel are 6x6x1 and 3x3x1 respectively. The number of parameters\n",
    "   is ((3x3x1)+1)x1 = 10 \n",
    "2. The output activation map is shown above. The dimensions 4x4x1. \n",
    "3. See the output of the max pooling using a stride of (2,2) and a filter size of (2,2) with no\n",
    "   padding. "
   ]
  }
 ],
 "metadata": {
  "colab": {
   "provenance": []
  },
  "kernelspec": {
   "display_name": "Python 3.8.10 64-bit",
   "language": "python",
   "name": "python3"
  },
  "language_info": {
   "codemirror_mode": {
    "name": "ipython",
    "version": 3
   },
   "file_extension": ".py",
   "mimetype": "text/x-python",
   "name": "python",
   "nbconvert_exporter": "python",
   "pygments_lexer": "ipython3",
   "version": "3.8.10"
  },
  "vscode": {
   "interpreter": {
    "hash": "31f2aee4e71d21fbe5cf8b01ff0e069b9275f58929596ceb00d14d90e3e16cd6"
   }
  }
 },
 "nbformat": 4,
 "nbformat_minor": 1
}
