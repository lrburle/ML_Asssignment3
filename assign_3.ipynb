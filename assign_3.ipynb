{
  "cells": [
    {
      "cell_type": "code",
      "execution_count": 34,
      "metadata": {
        "colab": {
          "base_uri": "https://localhost:8080/"
        },
        "id": "v7mqEmcY9cz3",
        "outputId": "5d06c170-16f9-4483-ed70-d0d02784ab57"
      },
      "outputs": [
        {
          "name": "stdout",
          "output_type": "stream",
          "text": [
            "fatal: destination path 'ML_Assignment2' already exists and is not an empty directory.\n"
          ]
        }
      ],
      "source": [
        "#!git clone https://github.com/lrburle/ML_Assignment3.git"
      ]
    },
    {
      "cell_type": "markdown",
      "metadata": {
        "id": "M_XRGWMF9cz0"
      },
      "source": [
        "# Assignment 3 - Landon Burleson \n",
        "## Problem 1\n",
        "\n",
        "***"
      ]
    },
    {
      "cell_type": "code",
      "execution_count": 1,
      "metadata": {
        "id": "3iukuJrm9cz4"
      },
      "outputs": [],
      "source": [
        "#Adding in the necessary modules needed to complete Assignment 3\n",
        "import numpy as np\n",
        "import matplotlib.pyplot as plt\n",
        "import sys\n",
        "import tensorflow as tf\n",
        "from tensorflow import keras\n",
        " \n",
        "# adding the subfolder to the path.\n",
        "# sys.path.insert(0, './ML_Assignment3')"
      ]
    },
    {
      "cell_type": "code",
      "execution_count": 11,
      "metadata": {},
      "outputs": [],
      "source": [
        "#Pulling in the MNIST test data.\n",
        "mnist = keras.datasets.mnist\n",
        "(x_train_full, y_train_full), (x_test, y_test) = mnist.load_data() \n",
        "\n",
        "#Splits the dataset for validation and training datasets. \n",
        "x_valid, x_train = x_train_full[:5000] / 255.0, x_train_full[5000:] / 255.0\n",
        "y_valid, y_train = y_train_full[:5000], y_train_full[5000:]"
      ]
    },
    {
      "cell_type": "code",
      "execution_count": 13,
      "metadata": {},
      "outputs": [
        {
          "name": "stdout",
          "output_type": "stream",
          "text": [
            "Model: \"sequential_10\"\n",
            "_________________________________________________________________\n",
            " Layer (type)                Output Shape              Param #   \n",
            "=================================================================\n",
            " conv1 (Conv2D)              (None, 28, 28, 256)       2560      \n",
            "                                                                 \n",
            " maxpool1 (MaxPooling2D)     (None, 14, 14, 256)       0         \n",
            "                                                                 \n",
            " conv2 (Conv2D)              (None, 14, 14, 128)       295040    \n",
            "                                                                 \n",
            " conv3 (Conv2D)              (None, 14, 14, 128)       147584    \n",
            "                                                                 \n",
            " maxpool2 (MaxPooling2D)     (None, 7, 7, 128)         0         \n",
            "                                                                 \n",
            " conv4 (Conv2D)              (None, 7, 7, 64)          73792     \n",
            "                                                                 \n",
            " conv5 (Conv2D)              (None, 7, 7, 64)          36928     \n",
            "                                                                 \n",
            " maxpool3 (MaxPooling2D)     (None, 3, 3, 64)          0         \n",
            "                                                                 \n",
            " conv6 (Conv2D)              (None, 3, 3, 32)          18464     \n",
            "                                                                 \n",
            " conv7 (Conv2D)              (None, 3, 3, 32)          9248      \n",
            "                                                                 \n",
            " maxpool4 (MaxPooling2D)     (None, 1, 1, 32)          0         \n",
            "                                                                 \n",
            " flatten_10 (Flatten)        (None, 32)                0         \n",
            "                                                                 \n",
            " deep1 (Dense)               (None, 128)               4224      \n",
            "                                                                 \n",
            " deep2 (Dense)               (None, 10)                1290      \n",
            "                                                                 \n",
            "=================================================================\n",
            "Total params: 589,130\n",
            "Trainable params: 589,130\n",
            "Non-trainable params: 0\n",
            "_________________________________________________________________\n",
            "Epoch 1/25\n",
            "  89/1719 [>.............................] - ETA: 2:14 - loss: 1.2001 - accuracy: 0.5938"
          ]
        },
        {
          "ename": "KeyboardInterrupt",
          "evalue": "",
          "output_type": "error",
          "traceback": [
            "\u001b[0;31m---------------------------------------------------------------------------\u001b[0m",
            "\u001b[0;31mKeyboardInterrupt\u001b[0m                         Traceback (most recent call last)",
            "Cell \u001b[0;32mIn [13], line 27\u001b[0m\n\u001b[1;32m     24\u001b[0m cnn_model\u001b[39m.\u001b[39msummary()\n\u001b[1;32m     26\u001b[0m \u001b[39m#Training the network.\u001b[39;00m\n\u001b[0;32m---> 27\u001b[0m cnn_model\u001b[39m.\u001b[39;49mfit(x_train, y_train, epochs\u001b[39m=\u001b[39;49m\u001b[39m25\u001b[39;49m, validation_data\u001b[39m=\u001b[39;49m(x_valid,y_valid))\n\u001b[1;32m     29\u001b[0m \u001b[39m#Extracting the weights and biases from the neural network by layer name.\u001b[39;00m\n\u001b[1;32m     30\u001b[0m \u001b[39m# hidden1_weights = cnn_model.get_layer(\"deep1\").weights\u001b[39;00m\n\u001b[1;32m     31\u001b[0m \u001b[39m# hidden1_bias = cnn_model.get_layer(\"deep1\").bias.numpy()\u001b[39;00m\n\u001b[1;32m     32\u001b[0m \n\u001b[1;32m     33\u001b[0m \u001b[39m#Using the trained model to make predictions based on the input\u001b[39;00m\n\u001b[1;32m     34\u001b[0m probability_model \u001b[39m=\u001b[39m tf\u001b[39m.\u001b[39mkeras\u001b[39m.\u001b[39mSequential([cnn_model, \n\u001b[1;32m     35\u001b[0m                                          tf\u001b[39m.\u001b[39mkeras\u001b[39m.\u001b[39mlayers\u001b[39m.\u001b[39mSoftmax()])\n",
            "File \u001b[0;32m~/Library/Python/3.9/lib/python/site-packages/keras/utils/traceback_utils.py:65\u001b[0m, in \u001b[0;36mfilter_traceback.<locals>.error_handler\u001b[0;34m(*args, **kwargs)\u001b[0m\n\u001b[1;32m     63\u001b[0m filtered_tb \u001b[39m=\u001b[39m \u001b[39mNone\u001b[39;00m\n\u001b[1;32m     64\u001b[0m \u001b[39mtry\u001b[39;00m:\n\u001b[0;32m---> 65\u001b[0m     \u001b[39mreturn\u001b[39;00m fn(\u001b[39m*\u001b[39;49margs, \u001b[39m*\u001b[39;49m\u001b[39m*\u001b[39;49mkwargs)\n\u001b[1;32m     66\u001b[0m \u001b[39mexcept\u001b[39;00m \u001b[39mException\u001b[39;00m \u001b[39mas\u001b[39;00m e:\n\u001b[1;32m     67\u001b[0m     filtered_tb \u001b[39m=\u001b[39m _process_traceback_frames(e\u001b[39m.\u001b[39m__traceback__)\n",
            "File \u001b[0;32m~/Library/Python/3.9/lib/python/site-packages/keras/engine/training.py:1564\u001b[0m, in \u001b[0;36mModel.fit\u001b[0;34m(self, x, y, batch_size, epochs, verbose, callbacks, validation_split, validation_data, shuffle, class_weight, sample_weight, initial_epoch, steps_per_epoch, validation_steps, validation_batch_size, validation_freq, max_queue_size, workers, use_multiprocessing)\u001b[0m\n\u001b[1;32m   1556\u001b[0m \u001b[39mwith\u001b[39;00m tf\u001b[39m.\u001b[39mprofiler\u001b[39m.\u001b[39mexperimental\u001b[39m.\u001b[39mTrace(\n\u001b[1;32m   1557\u001b[0m     \u001b[39m\"\u001b[39m\u001b[39mtrain\u001b[39m\u001b[39m\"\u001b[39m,\n\u001b[1;32m   1558\u001b[0m     epoch_num\u001b[39m=\u001b[39mepoch,\n\u001b[0;32m   (...)\u001b[0m\n\u001b[1;32m   1561\u001b[0m     _r\u001b[39m=\u001b[39m\u001b[39m1\u001b[39m,\n\u001b[1;32m   1562\u001b[0m ):\n\u001b[1;32m   1563\u001b[0m     callbacks\u001b[39m.\u001b[39mon_train_batch_begin(step)\n\u001b[0;32m-> 1564\u001b[0m     tmp_logs \u001b[39m=\u001b[39m \u001b[39mself\u001b[39;49m\u001b[39m.\u001b[39;49mtrain_function(iterator)\n\u001b[1;32m   1565\u001b[0m     \u001b[39mif\u001b[39;00m data_handler\u001b[39m.\u001b[39mshould_sync:\n\u001b[1;32m   1566\u001b[0m         context\u001b[39m.\u001b[39masync_wait()\n",
            "File \u001b[0;32m~/Library/Python/3.9/lib/python/site-packages/tensorflow/python/util/traceback_utils.py:150\u001b[0m, in \u001b[0;36mfilter_traceback.<locals>.error_handler\u001b[0;34m(*args, **kwargs)\u001b[0m\n\u001b[1;32m    148\u001b[0m filtered_tb \u001b[39m=\u001b[39m \u001b[39mNone\u001b[39;00m\n\u001b[1;32m    149\u001b[0m \u001b[39mtry\u001b[39;00m:\n\u001b[0;32m--> 150\u001b[0m   \u001b[39mreturn\u001b[39;00m fn(\u001b[39m*\u001b[39;49margs, \u001b[39m*\u001b[39;49m\u001b[39m*\u001b[39;49mkwargs)\n\u001b[1;32m    151\u001b[0m \u001b[39mexcept\u001b[39;00m \u001b[39mException\u001b[39;00m \u001b[39mas\u001b[39;00m e:\n\u001b[1;32m    152\u001b[0m   filtered_tb \u001b[39m=\u001b[39m _process_traceback_frames(e\u001b[39m.\u001b[39m__traceback__)\n",
            "File \u001b[0;32m~/Library/Python/3.9/lib/python/site-packages/tensorflow/python/eager/def_function.py:915\u001b[0m, in \u001b[0;36mFunction.__call__\u001b[0;34m(self, *args, **kwds)\u001b[0m\n\u001b[1;32m    912\u001b[0m compiler \u001b[39m=\u001b[39m \u001b[39m\"\u001b[39m\u001b[39mxla\u001b[39m\u001b[39m\"\u001b[39m \u001b[39mif\u001b[39;00m \u001b[39mself\u001b[39m\u001b[39m.\u001b[39m_jit_compile \u001b[39melse\u001b[39;00m \u001b[39m\"\u001b[39m\u001b[39mnonXla\u001b[39m\u001b[39m\"\u001b[39m\n\u001b[1;32m    914\u001b[0m \u001b[39mwith\u001b[39;00m OptionalXlaContext(\u001b[39mself\u001b[39m\u001b[39m.\u001b[39m_jit_compile):\n\u001b[0;32m--> 915\u001b[0m   result \u001b[39m=\u001b[39m \u001b[39mself\u001b[39;49m\u001b[39m.\u001b[39;49m_call(\u001b[39m*\u001b[39;49margs, \u001b[39m*\u001b[39;49m\u001b[39m*\u001b[39;49mkwds)\n\u001b[1;32m    917\u001b[0m new_tracing_count \u001b[39m=\u001b[39m \u001b[39mself\u001b[39m\u001b[39m.\u001b[39mexperimental_get_tracing_count()\n\u001b[1;32m    918\u001b[0m without_tracing \u001b[39m=\u001b[39m (tracing_count \u001b[39m==\u001b[39m new_tracing_count)\n",
            "File \u001b[0;32m~/Library/Python/3.9/lib/python/site-packages/tensorflow/python/eager/def_function.py:947\u001b[0m, in \u001b[0;36mFunction._call\u001b[0;34m(self, *args, **kwds)\u001b[0m\n\u001b[1;32m    944\u001b[0m   \u001b[39mself\u001b[39m\u001b[39m.\u001b[39m_lock\u001b[39m.\u001b[39mrelease()\n\u001b[1;32m    945\u001b[0m   \u001b[39m# In this case we have created variables on the first call, so we run the\u001b[39;00m\n\u001b[1;32m    946\u001b[0m   \u001b[39m# defunned version which is guaranteed to never create variables.\u001b[39;00m\n\u001b[0;32m--> 947\u001b[0m   \u001b[39mreturn\u001b[39;00m \u001b[39mself\u001b[39;49m\u001b[39m.\u001b[39;49m_stateless_fn(\u001b[39m*\u001b[39;49margs, \u001b[39m*\u001b[39;49m\u001b[39m*\u001b[39;49mkwds)  \u001b[39m# pylint: disable=not-callable\u001b[39;00m\n\u001b[1;32m    948\u001b[0m \u001b[39melif\u001b[39;00m \u001b[39mself\u001b[39m\u001b[39m.\u001b[39m_stateful_fn \u001b[39mis\u001b[39;00m \u001b[39mnot\u001b[39;00m \u001b[39mNone\u001b[39;00m:\n\u001b[1;32m    949\u001b[0m   \u001b[39m# Release the lock early so that multiple threads can perform the call\u001b[39;00m\n\u001b[1;32m    950\u001b[0m   \u001b[39m# in parallel.\u001b[39;00m\n\u001b[1;32m    951\u001b[0m   \u001b[39mself\u001b[39m\u001b[39m.\u001b[39m_lock\u001b[39m.\u001b[39mrelease()\n",
            "File \u001b[0;32m~/Library/Python/3.9/lib/python/site-packages/tensorflow/python/eager/function.py:2496\u001b[0m, in \u001b[0;36mFunction.__call__\u001b[0;34m(self, *args, **kwargs)\u001b[0m\n\u001b[1;32m   2493\u001b[0m \u001b[39mwith\u001b[39;00m \u001b[39mself\u001b[39m\u001b[39m.\u001b[39m_lock:\n\u001b[1;32m   2494\u001b[0m   (graph_function,\n\u001b[1;32m   2495\u001b[0m    filtered_flat_args) \u001b[39m=\u001b[39m \u001b[39mself\u001b[39m\u001b[39m.\u001b[39m_maybe_define_function(args, kwargs)\n\u001b[0;32m-> 2496\u001b[0m \u001b[39mreturn\u001b[39;00m graph_function\u001b[39m.\u001b[39;49m_call_flat(\n\u001b[1;32m   2497\u001b[0m     filtered_flat_args, captured_inputs\u001b[39m=\u001b[39;49mgraph_function\u001b[39m.\u001b[39;49mcaptured_inputs)\n",
            "File \u001b[0;32m~/Library/Python/3.9/lib/python/site-packages/tensorflow/python/eager/function.py:1862\u001b[0m, in \u001b[0;36mConcreteFunction._call_flat\u001b[0;34m(self, args, captured_inputs, cancellation_manager)\u001b[0m\n\u001b[1;32m   1858\u001b[0m possible_gradient_type \u001b[39m=\u001b[39m gradients_util\u001b[39m.\u001b[39mPossibleTapeGradientTypes(args)\n\u001b[1;32m   1859\u001b[0m \u001b[39mif\u001b[39;00m (possible_gradient_type \u001b[39m==\u001b[39m gradients_util\u001b[39m.\u001b[39mPOSSIBLE_GRADIENT_TYPES_NONE\n\u001b[1;32m   1860\u001b[0m     \u001b[39mand\u001b[39;00m executing_eagerly):\n\u001b[1;32m   1861\u001b[0m   \u001b[39m# No tape is watching; skip to running the function.\u001b[39;00m\n\u001b[0;32m-> 1862\u001b[0m   \u001b[39mreturn\u001b[39;00m \u001b[39mself\u001b[39m\u001b[39m.\u001b[39m_build_call_outputs(\u001b[39mself\u001b[39;49m\u001b[39m.\u001b[39;49m_inference_function\u001b[39m.\u001b[39;49mcall(\n\u001b[1;32m   1863\u001b[0m       ctx, args, cancellation_manager\u001b[39m=\u001b[39;49mcancellation_manager))\n\u001b[1;32m   1864\u001b[0m forward_backward \u001b[39m=\u001b[39m \u001b[39mself\u001b[39m\u001b[39m.\u001b[39m_select_forward_and_backward_functions(\n\u001b[1;32m   1865\u001b[0m     args,\n\u001b[1;32m   1866\u001b[0m     possible_gradient_type,\n\u001b[1;32m   1867\u001b[0m     executing_eagerly)\n\u001b[1;32m   1868\u001b[0m forward_function, args_with_tangents \u001b[39m=\u001b[39m forward_backward\u001b[39m.\u001b[39mforward()\n",
            "File \u001b[0;32m~/Library/Python/3.9/lib/python/site-packages/tensorflow/python/eager/function.py:499\u001b[0m, in \u001b[0;36m_EagerDefinedFunction.call\u001b[0;34m(self, ctx, args, cancellation_manager)\u001b[0m\n\u001b[1;32m    497\u001b[0m \u001b[39mwith\u001b[39;00m _InterpolateFunctionError(\u001b[39mself\u001b[39m):\n\u001b[1;32m    498\u001b[0m   \u001b[39mif\u001b[39;00m cancellation_manager \u001b[39mis\u001b[39;00m \u001b[39mNone\u001b[39;00m:\n\u001b[0;32m--> 499\u001b[0m     outputs \u001b[39m=\u001b[39m execute\u001b[39m.\u001b[39;49mexecute(\n\u001b[1;32m    500\u001b[0m         \u001b[39mstr\u001b[39;49m(\u001b[39mself\u001b[39;49m\u001b[39m.\u001b[39;49msignature\u001b[39m.\u001b[39;49mname),\n\u001b[1;32m    501\u001b[0m         num_outputs\u001b[39m=\u001b[39;49m\u001b[39mself\u001b[39;49m\u001b[39m.\u001b[39;49m_num_outputs,\n\u001b[1;32m    502\u001b[0m         inputs\u001b[39m=\u001b[39;49margs,\n\u001b[1;32m    503\u001b[0m         attrs\u001b[39m=\u001b[39;49mattrs,\n\u001b[1;32m    504\u001b[0m         ctx\u001b[39m=\u001b[39;49mctx)\n\u001b[1;32m    505\u001b[0m   \u001b[39melse\u001b[39;00m:\n\u001b[1;32m    506\u001b[0m     outputs \u001b[39m=\u001b[39m execute\u001b[39m.\u001b[39mexecute_with_cancellation(\n\u001b[1;32m    507\u001b[0m         \u001b[39mstr\u001b[39m(\u001b[39mself\u001b[39m\u001b[39m.\u001b[39msignature\u001b[39m.\u001b[39mname),\n\u001b[1;32m    508\u001b[0m         num_outputs\u001b[39m=\u001b[39m\u001b[39mself\u001b[39m\u001b[39m.\u001b[39m_num_outputs,\n\u001b[0;32m   (...)\u001b[0m\n\u001b[1;32m    511\u001b[0m         ctx\u001b[39m=\u001b[39mctx,\n\u001b[1;32m    512\u001b[0m         cancellation_manager\u001b[39m=\u001b[39mcancellation_manager)\n",
            "File \u001b[0;32m~/Library/Python/3.9/lib/python/site-packages/tensorflow/python/eager/execute.py:54\u001b[0m, in \u001b[0;36mquick_execute\u001b[0;34m(op_name, num_outputs, inputs, attrs, ctx, name)\u001b[0m\n\u001b[1;32m     52\u001b[0m \u001b[39mtry\u001b[39;00m:\n\u001b[1;32m     53\u001b[0m   ctx\u001b[39m.\u001b[39mensure_initialized()\n\u001b[0;32m---> 54\u001b[0m   tensors \u001b[39m=\u001b[39m pywrap_tfe\u001b[39m.\u001b[39;49mTFE_Py_Execute(ctx\u001b[39m.\u001b[39;49m_handle, device_name, op_name,\n\u001b[1;32m     55\u001b[0m                                       inputs, attrs, num_outputs)\n\u001b[1;32m     56\u001b[0m \u001b[39mexcept\u001b[39;00m core\u001b[39m.\u001b[39m_NotOkStatusException \u001b[39mas\u001b[39;00m e:\n\u001b[1;32m     57\u001b[0m   \u001b[39mif\u001b[39;00m name \u001b[39mis\u001b[39;00m \u001b[39mnot\u001b[39;00m \u001b[39mNone\u001b[39;00m:\n",
            "\u001b[0;31mKeyboardInterrupt\u001b[0m: "
          ]
        }
      ],
      "source": [
        "#Creating the sequential model\n",
        "cnn_model = keras.models.Sequential([\n",
        "    #Convolution front end.\n",
        "    keras.layers.Conv2D(256, (3, 3), activation=\"relu\", padding=\"same\", input_shape = [28, 28, 1], name=\"conv1\"),\n",
        "    keras.layers.MaxPooling2D((2, 2), name=\"maxpool1\"),\n",
        "    keras.layers.Conv2D(128, (3, 3), activation=\"relu\", padding=\"same\", name=\"conv2\"),\n",
        "    keras.layers.Conv2D(128, (3, 3), activation=\"relu\", padding=\"same\", name=\"conv3\"),\n",
        "    keras.layers.MaxPooling2D((2, 2), name=\"maxpool2\"),\n",
        "    keras.layers.Conv2D(64, (3, 3), activation=\"relu\", padding=\"same\", name=\"conv4\"), \n",
        "    keras.layers.Conv2D(64, (3, 3), activation=\"relu\", padding=\"same\", name=\"conv5\"), \n",
        "    keras.layers.MaxPooling2D((2, 2), name=\"maxpool3\"),\n",
        "    keras.layers.Conv2D(32, (3, 3), activation=\"relu\", padding=\"same\", name=\"conv6\"), \n",
        "    keras.layers.Conv2D(32, (3, 3), activation=\"relu\", padding=\"same\", name=\"conv7\"), \n",
        "    keras.layers.MaxPooling2D((2, 2), name=\"maxpool4\"),\n",
        "\n",
        "\t#Deep learning layers\n",
        "    keras.layers.Flatten(),\n",
        "    keras.layers.Dense(128, activation=\"relu\", name=\"deep1\"), #Dense layers can be atributed to a 'regular' hidden layer of neurons\n",
        "    keras.layers.Dense(10, activation=\"softmax\", name=\"deep2\") \n",
        "])\n",
        "\n",
        "#Shows the whole network topology for the compiled CNN\n",
        "cnn_model.compile(loss='sparse_categorical_crossentropy', optimizer='adam', metrics=['accuracy'])\n",
        "#Compiling the model with a loss, optimizer, and other metrics\n",
        "cnn_model.summary()\n",
        "\n",
        "#Training the network.\n",
        "cnn_model.fit(x_train, y_train, epochs=25, validation_data=(x_valid,y_valid))\n",
        "\n",
        "#Extracting the weights and biases from the neural network by layer name.\n",
        "# hidden1_weights = cnn_model.get_layer(\"deep1\").weights\n",
        "# hidden1_bias = cnn_model.get_layer(\"deep1\").bias.numpy()\n",
        "\n",
        "#Using the trained model to make predictions based on the input\n",
        "probability_model = tf.keras.Sequential([cnn_model, \n",
        "                                         tf.keras.layers.Softmax()])\n",
        "\n",
        "#Predicts what the image represents. \n",
        "x_test = x_test / 255.0 #Normalizes the input images\n",
        "predictions = probability_model.predict(x_test)\n",
        "\n",
        "# #Returns the most probable output layer based on the input image at index 3\n",
        "print('Predicted value: ' + str(np.argmax(predictions[3])) + ', actual digit: ' + str(y_test[3]))\n",
        "\n",
        "array = x_test[3]\n",
        "\n",
        "#Show the current image\n",
        "plt.figure()\n",
        "plt.imshow(x_test[3], cmap=\"gray\")\n",
        "plt.show()"
      ]
    },
    {
      "cell_type": "markdown",
      "metadata": {
        "id": "8DzgCOkj9cz2"
      },
      "source": [
        "## Problem 2"
      ]
    },
    {
      "cell_type": "code",
      "execution_count": null,
      "metadata": {},
      "outputs": [],
      "source": [
        "# Loading the MNIST dataset \n",
        "mnist = keras.datasets.mnist\n",
        "(x_train_full, y_train_full), (x_test, y_test) = mnist.load_data() \n",
        "\n",
        "#Splits the dataset for validation and training datasets. \n",
        "x_valid, x_train = x_train_full[:5000] / 255.0, x_train_full[5000:] / 255.0\n",
        "y_valid, y_train = y_train_full[:5000], y_train_full[5000:]\n",
        "\n",
        "model = keras.models.Sequential([\n",
        "    cnn_model.add(tf.keras.layers.Conv2D(5, (5, 5), padding='same', activation='relu'))\n",
        "    cnn_model.add(tf.keras.layers.MaxPooling2D(pool_size=(2, 2), strides=(2,2)))\n",
        "    cnn_model.add(tf.keras.layers.Conv2D(16, (5, 5), strides=(1, 1), padding='same', activation='relu'))\n",
        "    cnn_model.add(tf.keras.layers.MaxPooling2D(pool_size=(2, 2), strides=(2,2)))\n",
        "    cnn_model.add(tf.keras.layers.Conv2D(120, (5, 5), padding='same', activation='relu'))\n",
        "\n",
        "    cnn_model.add(tf.keras.layers.Flatten())\n",
        "    cnn_model.add(tf.keras.layers.Dense(84))\n",
        "    cnn_model.add(tf.keras.layers.Activation('relu'))\n",
        "    cnn_model.add(tf.keras.layers.Dense(10))\n",
        "    cnn_model.add(tf.keras.layers.Activation('softmax'))\n",
        "\n",
        "    cnn_model.compile(loss='sparse_categorical_crossentropy', optimizer='adam', metrics=['accuracy'])\n",
        "    cnn_model.build(input_shape=(1,28,28,1))\n",
        "])\n",
        "\n",
        "#Compiling the model with a loss, optimizer, and other metrics\n",
        "model.compile(loss=\"sparse_categorical_crossentropy\",\n",
        "              optimizer=\"sgd\",\n",
        "              metrics=[\"accuracy\"])\n",
        "\n",
        "#Shows the whole network topology for the compiled CNN\n",
        "model.summary()\n",
        "\n",
        "#Training the network.\n",
        "model.fit(x_train, y_train, epochs=10, validation_data=(x_valid,y_valid))\n",
        "\n",
        "#Extracting the weights and biases from the neural network by layer name.\n",
        "hidden1_weights = model.get_layer(\"deep1\").weights\n",
        "hidden1_bias = model.get_layer(\"deep1\").bias.numpy()\n",
        "\n",
        "#Using the trained model to make predictions based on the input\n",
        "probability_model = tf.keras.Sequential([model, \n",
        "                                         tf.keras.layers.Softmax()])\n",
        "\n",
        "#Predicts what the image represents. \n",
        "x_test = x_test / 255.0 #Normalizes the input images\n",
        "predictions = probability_model.predict(x_test)\n",
        "\n",
        "# #Returns the most probable output layer based on the input image at index 3\n",
        "print('Predicted value: ' + str(np.argmax(predictions[3])) + ', actual digit: ' + str(y_test[3]))\n",
        "\n",
        "array = x_test[3]\n",
        "\n",
        "#Show the current image\n",
        "plt.figure()\n",
        "plt.imshow(x_test[3], cmap=\"gray\")\n",
        "plt.show()"
      ]
    },
    {
      "cell_type": "markdown",
      "metadata": {
        "id": "JlTPm71d9c0A"
      },
      "source": [
        "***"
      ]
    },
    {
      "cell_type": "markdown",
      "metadata": {
        "id": "Sk3iCH7b9c0A"
      },
      "source": [
        "# Problem 3\n",
        "\n",
        "***"
      ]
    },
    {
      "cell_type": "code",
      "execution_count": 3,
      "metadata": {},
      "outputs": [],
      "source": [
        "X = np.array([[7, 5, 0, 0, 3, 2], [6, 4, 5, 1, 4, 8], [9, 0, 2, 2, 5, 4],  [6, 3, 4, 7, 9, 8], [5, 7, 5, 6, 9, 0], [7, 9, 0, 8, 2, 3]])\n",
        "f = np.array([[1, 0, -1], [2, 0, -2], [1, 0, -1]])"
      ]
    }
  ],
  "metadata": {
    "colab": {
      "provenance": []
    },
    "kernelspec": {
      "display_name": "Python 3.6.8 64-bit",
      "language": "python",
      "name": "python3"
    },
    "language_info": {
      "codemirror_mode": {
        "name": "ipython",
        "version": 3
      },
      "file_extension": ".py",
      "mimetype": "text/x-python",
      "name": "python",
      "nbconvert_exporter": "python",
      "pygments_lexer": "ipython3",
      "version": "3.9.6"
    },
    "orig_nbformat": 4,
    "vscode": {
      "interpreter": {
        "hash": "31f2aee4e71d21fbe5cf8b01ff0e069b9275f58929596ceb00d14d90e3e16cd6"
      }
    }
  },
  "nbformat": 4,
  "nbformat_minor": 0
}
