{
 "cells": [
  {
   "cell_type": "code",
   "execution_count": 34,
   "metadata": {
    "colab": {
     "base_uri": "https://localhost:8080/"
    },
    "id": "v7mqEmcY9cz3",
    "outputId": "5d06c170-16f9-4483-ed70-d0d02784ab57"
   },
   "outputs": [
    {
     "name": "stdout",
     "output_type": "stream",
     "text": [
      "fatal: destination path 'ML_Assignment2' already exists and is not an empty directory.\n"
     ]
    }
   ],
   "source": [
    "#!git clone https://github.com/lrburle/ML_Assignment3.git"
   ]
  },
  {
   "cell_type": "markdown",
   "metadata": {
    "id": "M_XRGWMF9cz0"
   },
   "source": [
    "# Assignment 3 - Landon Burleson \n",
    "## Problem 1\n",
    "\n",
    "***"
   ]
  },
  {
   "cell_type": "code",
   "execution_count": 2,
   "metadata": {
    "id": "3iukuJrm9cz4"
   },
   "outputs": [],
   "source": [
    "#Adding in the necessary modules needed to complete Assignment 3\n",
    "import numpy as np\n",
    "import matplotlib.pyplot as plt\n",
    "import sys\n",
    "import tensorflow as tf\n",
    "from tensorflow import keras\n",
    " \n",
    "# adding the subfolder to the path.\n",
    "# sys.path.insert(0, './ML_Assignment3')"
   ]
  },
  {
   "cell_type": "code",
   "execution_count": 3,
   "metadata": {},
   "outputs": [],
   "source": [
    "#Pulling in the MNIST test data.\n",
    "mnist = keras.datasets.mnist\n",
    "(x_train_full, y_train_full), (x_test, y_test) = mnist.load_data() \n",
    "\n",
    "#Splits the dataset for validation and training datasets. \n",
    "x_valid, x_train = x_train_full[:5000] / 255.0, x_train_full[5000:] / 255.0\n",
    "y_valid, y_train = y_train_full[:5000], y_train_full[5000:]"
   ]
  },
  {
   "cell_type": "code",
   "execution_count": 4,
   "metadata": {},
   "outputs": [
    {
     "name": "stderr",
     "output_type": "stream",
     "text": [
      "2022-10-22 19:45:58.334897: I tensorflow/core/common_runtime/pluggable_device/pluggable_device_factory.cc:306] Could not identify NUMA node of platform GPU ID 0, defaulting to 0. Your kernel may not have been built with NUMA support.\n",
      "2022-10-22 19:45:58.335232: I tensorflow/core/common_runtime/pluggable_device/pluggable_device_factory.cc:272] Created TensorFlow device (/job:localhost/replica:0/task:0/device:GPU:0 with 0 MB memory) -> physical PluggableDevice (device: 0, name: METAL, pci bus id: <undefined>)\n"
     ]
    },
    {
     "name": "stdout",
     "output_type": "stream",
     "text": [
      "Metal device set to: Apple M2\n",
      "\n",
      "systemMemory: 24.00 GB\n",
      "maxCacheSize: 8.00 GB\n",
      "\n",
      "Model: \"sequential\"\n",
      "_________________________________________________________________\n",
      " Layer (type)                Output Shape              Param #   \n",
      "=================================================================\n",
      " conv1 (Conv2D)              (None, 28, 28, 256)       2560      \n",
      "                                                                 \n",
      " maxpool1 (MaxPooling2D)     (None, 14, 14, 256)       0         \n",
      "                                                                 \n",
      " conv2 (Conv2D)              (None, 14, 14, 128)       295040    \n",
      "                                                                 \n",
      " conv3 (Conv2D)              (None, 14, 14, 128)       147584    \n",
      "                                                                 \n",
      " maxpool2 (MaxPooling2D)     (None, 7, 7, 128)         0         \n",
      "                                                                 \n",
      " conv4 (Conv2D)              (None, 7, 7, 64)          73792     \n",
      "                                                                 \n",
      " conv5 (Conv2D)              (None, 7, 7, 64)          36928     \n",
      "                                                                 \n",
      " maxpool3 (MaxPooling2D)     (None, 3, 3, 64)          0         \n",
      "                                                                 \n",
      " conv6 (Conv2D)              (None, 3, 3, 32)          18464     \n",
      "                                                                 \n",
      " conv7 (Conv2D)              (None, 3, 3, 32)          9248      \n",
      "                                                                 \n",
      " maxpool4 (MaxPooling2D)     (None, 1, 1, 32)          0         \n",
      "                                                                 \n",
      " flatten (Flatten)           (None, 32)                0         \n",
      "                                                                 \n",
      " deep1 (Dense)               (None, 128)               4224      \n",
      "                                                                 \n",
      " deep2 (Dense)               (None, 10)                1290      \n",
      "                                                                 \n",
      "=================================================================\n",
      "Total params: 589,130\n",
      "Trainable params: 589,130\n",
      "Non-trainable params: 0\n",
      "_________________________________________________________________\n",
      "Epoch 1/25\n"
     ]
    },
    {
     "name": "stderr",
     "output_type": "stream",
     "text": [
      "2022-10-22 19:45:58.905487: W tensorflow/core/platform/profile_utils/cpu_utils.cc:128] Failed to get CPU frequency: 0 Hz\n",
      "2022-10-22 19:45:59.181270: I tensorflow/core/grappler/optimizers/custom_graph_optimizer_registry.cc:114] Plugin optimizer for device_type GPU is enabled.\n"
     ]
    },
    {
     "name": "stdout",
     "output_type": "stream",
     "text": [
      "1719/1719 [==============================] - ETA: 0s - loss: 0.1708 - accuracy: 0.9452"
     ]
    },
    {
     "name": "stderr",
     "output_type": "stream",
     "text": [
      "2022-10-22 19:46:40.965684: I tensorflow/core/grappler/optimizers/custom_graph_optimizer_registry.cc:114] Plugin optimizer for device_type GPU is enabled.\n"
     ]
    },
    {
     "name": "stdout",
     "output_type": "stream",
     "text": [
      "1719/1719 [==============================] - 44s 23ms/step - loss: 0.1708 - accuracy: 0.9452 - val_loss: 0.0586 - val_accuracy: 0.9824\n",
      "Epoch 2/25\n",
      "1719/1719 [==============================] - 39s 23ms/step - loss: 0.0554 - accuracy: 0.9839 - val_loss: 0.0525 - val_accuracy: 0.9842\n",
      "Epoch 3/25\n",
      "1719/1719 [==============================] - 39s 23ms/step - loss: 0.0435 - accuracy: 0.9876 - val_loss: 0.0360 - val_accuracy: 0.9904\n",
      "Epoch 4/25\n",
      "1719/1719 [==============================] - 40s 23ms/step - loss: 0.0334 - accuracy: 0.9904 - val_loss: 0.0426 - val_accuracy: 0.9872\n",
      "Epoch 5/25\n",
      "1719/1719 [==============================] - 38s 22ms/step - loss: 0.0294 - accuracy: 0.9912 - val_loss: 0.0381 - val_accuracy: 0.9886\n",
      "Epoch 6/25\n",
      "1719/1719 [==============================] - 37s 22ms/step - loss: 0.0231 - accuracy: 0.9931 - val_loss: 0.0318 - val_accuracy: 0.9918\n",
      "Epoch 7/25\n",
      "1719/1719 [==============================] - 37s 22ms/step - loss: 0.0212 - accuracy: 0.9942 - val_loss: 0.0328 - val_accuracy: 0.9914\n",
      "Epoch 8/25\n",
      "1719/1719 [==============================] - 37s 21ms/step - loss: 0.0207 - accuracy: 0.9942 - val_loss: 0.0657 - val_accuracy: 0.9836\n",
      "Epoch 9/25\n",
      "1719/1719 [==============================] - 38s 22ms/step - loss: 0.0175 - accuracy: 0.9949 - val_loss: 0.0338 - val_accuracy: 0.9904\n",
      "Epoch 10/25\n",
      "1719/1719 [==============================] - 38s 22ms/step - loss: 0.0173 - accuracy: 0.9951 - val_loss: 0.0345 - val_accuracy: 0.9934\n",
      "Epoch 11/25\n",
      "1719/1719 [==============================] - 38s 22ms/step - loss: 0.0164 - accuracy: 0.9955 - val_loss: 0.0318 - val_accuracy: 0.9930\n",
      "Epoch 12/25\n",
      "1719/1719 [==============================] - 38s 22ms/step - loss: 0.0135 - accuracy: 0.9965 - val_loss: 0.0348 - val_accuracy: 0.9934\n",
      "Epoch 13/25\n",
      "1719/1719 [==============================] - 38s 22ms/step - loss: 0.0160 - accuracy: 0.9958 - val_loss: 0.0357 - val_accuracy: 0.9922\n",
      "Epoch 14/25\n",
      "1719/1719 [==============================] - 38s 22ms/step - loss: 0.0131 - accuracy: 0.9964 - val_loss: 0.0394 - val_accuracy: 0.9926\n",
      "Epoch 15/25\n",
      "1719/1719 [==============================] - 37s 22ms/step - loss: 0.0137 - accuracy: 0.9965 - val_loss: 0.0533 - val_accuracy: 0.9896\n",
      "Epoch 16/25\n",
      "1719/1719 [==============================] - 42s 24ms/step - loss: 0.0114 - accuracy: 0.9970 - val_loss: 0.0404 - val_accuracy: 0.9922\n",
      "Epoch 17/25\n",
      "1719/1719 [==============================] - 41s 24ms/step - loss: 0.0137 - accuracy: 0.9964 - val_loss: 0.0587 - val_accuracy: 0.9896\n",
      "Epoch 18/25\n",
      "1719/1719 [==============================] - 38s 22ms/step - loss: 0.0138 - accuracy: 0.9963 - val_loss: 0.0370 - val_accuracy: 0.9936\n",
      "Epoch 19/25\n",
      "1719/1719 [==============================] - 38s 22ms/step - loss: 0.0113 - accuracy: 0.9969 - val_loss: 0.0452 - val_accuracy: 0.9904\n",
      "Epoch 20/25\n",
      "1719/1719 [==============================] - 38s 22ms/step - loss: 0.0110 - accuracy: 0.9970 - val_loss: 0.0570 - val_accuracy: 0.9912\n",
      "Epoch 21/25\n",
      "1719/1719 [==============================] - 39s 23ms/step - loss: 0.0089 - accuracy: 0.9977 - val_loss: 0.0485 - val_accuracy: 0.9912\n",
      "Epoch 22/25\n",
      "1719/1719 [==============================] - 39s 23ms/step - loss: 0.0113 - accuracy: 0.9972 - val_loss: 0.0451 - val_accuracy: 0.9920\n",
      "Epoch 23/25\n",
      "1719/1719 [==============================] - 37s 22ms/step - loss: 0.0125 - accuracy: 0.9968 - val_loss: 0.0457 - val_accuracy: 0.9920\n",
      "Epoch 24/25\n",
      "1719/1719 [==============================] - 37s 21ms/step - loss: 0.0102 - accuracy: 0.9972 - val_loss: 0.0535 - val_accuracy: 0.9912\n",
      "Epoch 25/25\n",
      "1719/1719 [==============================] - 37s 22ms/step - loss: 0.0109 - accuracy: 0.9972 - val_loss: 0.0885 - val_accuracy: 0.9904\n",
      " 20/313 [>.............................] - ETA: 1s"
     ]
    },
    {
     "name": "stderr",
     "output_type": "stream",
     "text": [
      "2022-10-22 20:02:02.276687: I tensorflow/core/grappler/optimizers/custom_graph_optimizer_registry.cc:114] Plugin optimizer for device_type GPU is enabled.\n"
     ]
    },
    {
     "name": "stdout",
     "output_type": "stream",
     "text": [
      "313/313 [==============================] - 2s 5ms/step\n",
      "Predicted value: 0, actual digit: 0\n"
     ]
    },
    {
     "data": {
      "image/png": "[encoded data removed]",
      "text/plain": [
       "<Figure size 640x480 with 1 Axes>"
      ]
     },
     "metadata": {},
     "output_type": "display_data"
    }
   ],
   "source": [
    "#Creating the sequential model\n",
    "cnn_model = keras.models.Sequential([\n",
    "    #Convolution front end.\n",
    "    keras.layers.Conv2D(256, (3, 3), activation=\"relu\", padding=\"same\", input_shape = [28, 28, 1], name=\"conv1\"),\n",
    "    keras.layers.MaxPooling2D((2, 2), name=\"maxpool1\"),\n",
    "    keras.layers.Conv2D(128, (3, 3), activation=\"relu\", padding=\"same\", name=\"conv2\"),\n",
    "    keras.layers.Conv2D(128, (3, 3), activation=\"relu\", padding=\"same\", name=\"conv3\"),\n",
    "    keras.layers.MaxPooling2D((2, 2), name=\"maxpool2\"),\n",
    "    keras.layers.Conv2D(64, (3, 3), activation=\"relu\", padding=\"same\", name=\"conv4\"), \n",
    "    keras.layers.Conv2D(64, (3, 3), activation=\"relu\", padding=\"same\", name=\"conv5\"), \n",
    "    keras.layers.MaxPooling2D((2, 2), name=\"maxpool3\"),\n",
    "    keras.layers.Conv2D(32, (3, 3), activation=\"relu\", padding=\"same\", name=\"conv6\"), \n",
    "    keras.layers.Conv2D(32, (3, 3), activation=\"relu\", padding=\"same\", name=\"conv7\"), \n",
    "    keras.layers.MaxPooling2D((2, 2), name=\"maxpool4\"),\n",
    "\n",
    "\t#Deep learning layers\n",
    "    keras.layers.Flatten(),\n",
    "    keras.layers.Dense(128, activation=\"relu\", name=\"deep1\"), #Dense layers can be atributed to a 'regular' hidden layer of neurons\n",
    "    keras.layers.Dense(10, activation=\"softmax\", name=\"deep2\") \n",
    "])\n",
    "\n",
    "#Shows the whole network topology for the compiled CNN\n",
    "cnn_model.compile(loss='sparse_categorical_crossentropy', optimizer='adam', metrics=['accuracy'])\n",
    "#Compiling the model with a loss, optimizer, and other metrics\n",
    "cnn_model.summary()\n",
    "\n",
    "#Training the network.\n",
    "history = cnn_model.fit(x_train, y_train, epochs=25, validation_data=(x_valid,y_valid))\n",
    "loss1 = history.loss\n",
    "\n",
    "#Extracting the weights and biases from the neural network by layer name.\n",
    "# hidden1_weights = cnn_model.get_layer(\"deep1\").weights\n",
    "# hidden1_bias = cnn_model.get_layer(\"deep1\").bias.numpy()\n",
    "\n",
    "#Using the trained model to make predictions based on the input\n",
    "# probability_model = tf.keras.Sequential([cnn_model, \n",
    "#                                          tf.keras.layers.Softmax()])\n",
    "\n",
    "#Predicts what the image represents. \n",
    "# x_test = x_test / 255.0 #Normalizes the input images\n",
    "# predictions = probability_model.predict(x_test)\n",
    "\n",
    "# # #Returns the most probable output layer based on the input image at index 3\n",
    "# print('Predicted value: ' + str(np.argmax(predictions[3])) + ', actual digit: ' + str(y_test[3]))\n",
    "\n",
    "# array = x_test[3]\n",
    "x = np.linspace(1, 25)\n",
    "\n",
    "# #Show the current image\n",
    "plt.figure()\n",
    "plt.title(\"Architectural CNN Performance Comparison\")\n",
    "plt.xlabel(\"Epochs\")\n",
    "plt.ylabel(\"Loss\")\n",
    "plt.plot(x, loss1, 'or', label=\"Regular CNN\")\n",
    "plt.show()"
   ]
  },
  {
   "cell_type": "markdown",
   "metadata": {
    "id": "8DzgCOkj9cz2"
   },
   "source": [
    "## Problem 2\n",
    "\n",
    "The following code demonstrates the LaNet7 architecture in tensorflow using the MNIST dataset. "
   ]
  },
  {
   "cell_type": "code",
   "execution_count": null,
   "metadata": {},
   "outputs": [],
   "source": [
    "# Loading the MNIST dataset \n",
    "mnist = keras.datasets.mnist\n",
    "(x_train_full, y_train_full), (x_test, y_test) = mnist.load_data() \n",
    "\n",
    "#Splits the dataset for validation and training datasets. \n",
    "x_valid, x_train = x_train_full[:5000] / 255.0, x_train_full[5000:] / 255.0\n",
    "y_valid, y_train = y_train_full[:5000], y_train_full[5000:]\n",
    "\n",
    "model = keras.models.Sequential([\n",
    "    keras.layers.Conv2D(6, (5, 5), padding='same', activation='relu'),\n",
    "    keras.layers.MaxPooling2D(pool_size=(2, 2), strides=(2,2)),\n",
    "    keras.layers.Conv2D(16, (5, 5), strides=(1, 1), padding='same', activation='relu'),\n",
    "    keras.layers.MaxPooling2D(pool_size=(2, 2), strides=(2,2)),\n",
    "    keras.layers.Conv2D(120, (5, 5), padding='same', activation='relu'),\n",
    "\n",
    "    keras.layers.Flatten(),\n",
    "    keras.layers.Dense(84, activation='relu'),\n",
    "    keras.layers.Dense(10, activation='softmax'),\n",
    "])\n",
    "\n",
    "#Compiling the model with a loss, optimizer, and other metrics\n",
    "model.compile(loss=\"sparse_categorical_crossentropy\",\n",
    "              optimizer=\"sgd\",\n",
    "              metrics=[\"accuracy\"])\n",
    "\n",
    "#Shows the whole network topology for the compiled CNN\n",
    "model.summary()\n",
    "\n",
    "#Training the network.\n",
    "model.fit(x_train, y_train, epochs=10, validation_data=(x_valid,y_valid))\n",
    "\n",
    "#Extracting the weights and biases from the neural network by layer name.\n",
    "hidden1_weights = model.get_layer(\"deep1\").weights\n",
    "hidden1_bias = model.get_layer(\"deep1\").bias.numpy()\n",
    "\n",
    "#Using the trained model to make predictions based on the input\n",
    "probability_model = tf.keras.Sequential([model, \n",
    "                                         tf.keras.layers.Softmax()])\n",
    "\n",
    "#Predicts what the image represents. \n",
    "x_test = x_test / 255.0 #Normalizes the input images\n",
    "predictions = probability_model.predict(x_test)\n",
    "\n",
    "# #Returns the most probable output layer based on the input image at index 3\n",
    "print('Predicted value: ' + str(np.argmax(predictions[3])) + ', actual digit: ' + str(y_test[3]))\n",
    "\n",
    "array = x_test[3]\n",
    "\n",
    "#Show the current image\n",
    "plt.figure()\n",
    "plt.imshow(x_test[3], cmap=\"gray\")\n",
    "plt.show()"
   ]
  },
  {
   "cell_type": "markdown",
   "metadata": {
    "id": "JlTPm71d9c0A"
   },
   "source": [
    "***"
   ]
  },
  {
   "cell_type": "markdown",
   "metadata": {
    "id": "Sk3iCH7b9c0A"
   },
   "source": [
    "# Problem 3\n",
    "\n",
    "***"
   ]
  },
  {
   "cell_type": "code",
   "execution_count": 3,
   "metadata": {},
   "outputs": [],
   "source": [
    "X = np.array([[7, 5, 0, 0, 3, 2], [6, 4, 5, 1, 4, 8], [9, 0, 2, 2, 5, 4],  [6, 3, 4, 7, 9, 8], [5, 7, 5, 6, 9, 0], [7, 9, 0, 8, 2, 3]])\n",
    "f = np.array([[1, 0, -1], [2, 0, -2], [1, 0, -1]])"
   ]
  }
 ],
 "metadata": {
  "colab": {
   "provenance": []
  },
  "kernelspec": {
   "display_name": "Python 3.9 (tensorflow)",
   "language": "python",
   "name": "tensorflow"
  },
  "language_info": {
   "codemirror_mode": {
    "name": "ipython",
    "version": 3
   },
   "file_extension": ".py",
   "mimetype": "text/x-python",
   "name": "python",
   "nbconvert_exporter": "python",
   "pygments_lexer": "ipython3",
   "version": "3.9.13"
  },
  "vscode": {
   "interpreter": {
    "hash": "31f2aee4e71d21fbe5cf8b01ff0e069b9275f58929596ceb00d14d90e3e16cd6"
   }
  }
 },
 "nbformat": 4,
 "nbformat_minor": 1
}
